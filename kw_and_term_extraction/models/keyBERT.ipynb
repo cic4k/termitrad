{
 "cells": [
  {
   "cell_type": "code",
   "execution_count": 1,
   "id": "6e11503b-bbc7-46c3-97f2-adbcf1ad27af",
   "metadata": {},
   "outputs": [
    {
     "name": "stderr",
     "output_type": "stream",
     "text": [
      "/home/tranthh/anaconda3/envs/term_torch18/lib/python3.7/site-packages/tqdm/auto.py:22: TqdmWarning: IProgress not found. Please update jupyter and ipywidgets. See https://ipywidgets.readthedocs.io/en/stable/user_install.html\n",
      "  from .autonotebook import tqdm as notebook_tqdm\n"
     ]
    }
   ],
   "source": [
    "import pandas as pd\n",
    "import numpy as np\n",
    "import matplotlib.pyplot as plt\n",
    "import seaborn as sns\n",
    "from keybert import KeyBERT\n",
    "CUDA_LAUNCH_BLOCKING=1"
   ]
  },
  {
   "cell_type": "code",
   "execution_count": 2,
   "id": "00b509c4-898f-4cb0-87f6-546b9f503ada",
   "metadata": {},
   "outputs": [],
   "source": [
    "eat_vf_df = pd.read_excel('./sample_data/ingénieriesEAT-VF-2021030.xlsx').rename(columns={'Gestion et traitement des déjections animales en Italie = ':'fr_title_s'})\n",
    "set_vf_df = pd.read_excel('./sample_data/SET-VF20210211.xlsx')"
   ]
  },
  {
   "cell_type": "code",
   "execution_count": 3,
   "id": "35eecb3f-6ae8-48a2-a0a6-6e64aaf5b6a6",
   "metadata": {},
   "outputs": [
    {
     "data": {
      "text/html": [
       "<div>\n",
       "<style scoped>\n",
       "    .dataframe tbody tr th:only-of-type {\n",
       "        vertical-align: middle;\n",
       "    }\n",
       "\n",
       "    .dataframe tbody tr th {\n",
       "        vertical-align: top;\n",
       "    }\n",
       "\n",
       "    .dataframe thead th {\n",
       "        text-align: right;\n",
       "    }\n",
       "</style>\n",
       "<table border=\"1\" class=\"dataframe\">\n",
       "  <thead>\n",
       "    <tr style=\"text-align: right;\">\n",
       "      <th></th>\n",
       "      <th>docType_s</th>\n",
       "      <th>halId_s</th>\n",
       "      <th>fr_title_s</th>\n",
       "      <th>en_title_s</th>\n",
       "      <th>fr_abstract_s</th>\n",
       "      <th>en_abstract_s4</th>\n",
       "      <th>fr_keyword_s</th>\n",
       "      <th>en_keyword_s</th>\n",
       "      <th>producedDate_s</th>\n",
       "      <th>volume_s</th>\n",
       "      <th>issue_s</th>\n",
       "      <th>uri_s</th>\n",
       "    </tr>\n",
       "  </thead>\n",
       "  <tbody>\n",
       "    <tr>\n",
       "      <th>0</th>\n",
       "      <td>ART</td>\n",
       "      <td>hal-02582981</td>\n",
       "      <td>Aménagement du Rhône et débit réservé</td>\n",
       "      <td>Development of the Rhône and reserved flow</td>\n",
       "      <td>Les opérations d'augmentation de débits réserv...</td>\n",
       "      <td>Operations to increase the reserve flows and t...</td>\n",
       "      <td>Aménagement de cours d'eau, débit réservé, éne...</td>\n",
       "      <td>River management, instream flow, hydroelectric...</td>\n",
       "      <td>2004.0</td>\n",
       "      <td>NaN</td>\n",
       "      <td>38 supplément</td>\n",
       "      <td>https://hal.inrae.fr/hal-02582981</td>\n",
       "    </tr>\n",
       "    <tr>\n",
       "      <th>1</th>\n",
       "      <td>ART</td>\n",
       "      <td>hal-02580960</td>\n",
       "      <td>Aménité : qualité des relations sociales, qual...</td>\n",
       "      <td>Amenity: quality in the social relationships, ...</td>\n",
       "      <td>Dans un contexte où le mot \"aménités\" circule ...</td>\n",
       "      <td>In a context where the word 'amenities' is use...</td>\n",
       "      <td>Aménité, sciences humaines et sociales, dévelo...</td>\n",
       "      <td>Amenity, human and social sciences, rural deve...</td>\n",
       "      <td>2002.0</td>\n",
       "      <td>NaN</td>\n",
       "      <td>spécial Aménités rurales : une nouvelle lectur...</td>\n",
       "      <td>https://hal.inrae.fr/hal-02580960</td>\n",
       "    </tr>\n",
       "    <tr>\n",
       "      <th>2</th>\n",
       "      <td>ART</td>\n",
       "      <td>hal-02580702</td>\n",
       "      <td>Aménités, fonctions non marchandes et aménagem...</td>\n",
       "      <td>Amenities, non-market functions and forest man...</td>\n",
       "      <td>La prise en compte des fonctions non marchande...</td>\n",
       "      <td>Taking into account non-market functions in fo...</td>\n",
       "      <td>Multifonctionnalité de la forêt, valeur non ma...</td>\n",
       "      <td>Forest multifunctionality, non-market value, a...</td>\n",
       "      <td>2002.0</td>\n",
       "      <td>NaN</td>\n",
       "      <td>spécial Aménagement forestier</td>\n",
       "      <td>https://hal.inrae.fr/hal-02580702</td>\n",
       "    </tr>\n",
       "  </tbody>\n",
       "</table>\n",
       "</div>"
      ],
      "text/plain": [
       "  docType_s       halId_s                                         fr_title_s  \\\n",
       "0       ART  hal-02582981              Aménagement du Rhône et débit réservé   \n",
       "1       ART  hal-02580960  Aménité : qualité des relations sociales, qual...   \n",
       "2       ART  hal-02580702  Aménités, fonctions non marchandes et aménagem...   \n",
       "\n",
       "                                          en_title_s  \\\n",
       "0         Development of the Rhône and reserved flow   \n",
       "1  Amenity: quality in the social relationships, ...   \n",
       "2  Amenities, non-market functions and forest man...   \n",
       "\n",
       "                                       fr_abstract_s  \\\n",
       "0  Les opérations d'augmentation de débits réserv...   \n",
       "1  Dans un contexte où le mot \"aménités\" circule ...   \n",
       "2  La prise en compte des fonctions non marchande...   \n",
       "\n",
       "                                      en_abstract_s4  \\\n",
       "0  Operations to increase the reserve flows and t...   \n",
       "1  In a context where the word 'amenities' is use...   \n",
       "2  Taking into account non-market functions in fo...   \n",
       "\n",
       "                                        fr_keyword_s  \\\n",
       "0  Aménagement de cours d'eau, débit réservé, éne...   \n",
       "1  Aménité, sciences humaines et sociales, dévelo...   \n",
       "2  Multifonctionnalité de la forêt, valeur non ma...   \n",
       "\n",
       "                                        en_keyword_s producedDate_s volume_s  \\\n",
       "0  River management, instream flow, hydroelectric...         2004.0      NaN   \n",
       "1  Amenity, human and social sciences, rural deve...         2002.0      NaN   \n",
       "2  Forest multifunctionality, non-market value, a...         2002.0      NaN   \n",
       "\n",
       "                                             issue_s  \\\n",
       "0                                      38 supplément   \n",
       "1  spécial Aménités rurales : une nouvelle lectur...   \n",
       "2                      spécial Aménagement forestier   \n",
       "\n",
       "                               uri_s  \n",
       "0  https://hal.inrae.fr/hal-02582981  \n",
       "1  https://hal.inrae.fr/hal-02580960  \n",
       "2  https://hal.inrae.fr/hal-02580702  "
      ]
     },
     "execution_count": 3,
     "metadata": {},
     "output_type": "execute_result"
    }
   ],
   "source": [
    "eat_vf_df.head(3)"
   ]
  },
  {
   "cell_type": "code",
   "execution_count": 4,
   "id": "033a741e-8265-4895-b43a-b74fd4d93b00",
   "metadata": {},
   "outputs": [
    {
     "data": {
      "text/html": [
       "<div>\n",
       "<style scoped>\n",
       "    .dataframe tbody tr th:only-of-type {\n",
       "        vertical-align: middle;\n",
       "    }\n",
       "\n",
       "    .dataframe tbody tr th {\n",
       "        vertical-align: top;\n",
       "    }\n",
       "\n",
       "    .dataframe thead th {\n",
       "        text-align: right;\n",
       "    }\n",
       "</style>\n",
       "<table border=\"1\" class=\"dataframe\">\n",
       "  <thead>\n",
       "    <tr style=\"text-align: right;\">\n",
       "      <th></th>\n",
       "      <th>Titre FR</th>\n",
       "      <th>Titre GB</th>\n",
       "      <th>RésuméFR</th>\n",
       "      <th>Résumé GB</th>\n",
       "      <th>Mots-clés FR</th>\n",
       "      <th>Mots clés GB</th>\n",
       "    </tr>\n",
       "  </thead>\n",
       "  <tbody>\n",
       "    <tr>\n",
       "      <th>0</th>\n",
       "      <td>Une approche innovante de modélisation du risq...</td>\n",
       "      <td>An innovative approach to modelling forest fir...</td>\n",
       "      <td>Une méthode de cartographie des interfaces hab...</td>\n",
       "      <td>A method to characterize and to map wildland-u...</td>\n",
       "      <td>Interface habitat-forêt, risque d’incendie, dé...</td>\n",
       "      <td>Wildland-urban interface, fire risk, fire star...</td>\n",
       "    </tr>\n",
       "    <tr>\n",
       "      <th>1</th>\n",
       "      <td>Mise en œuvre de deux mesures agrienvironnemen...</td>\n",
       "      <td>Implementation of two result-based agrienviron...</td>\n",
       "      <td>Afin de répondre aux exigences de la société e...</td>\n",
       "      <td>In order to meet society's demands for a more ...</td>\n",
       "      <td>Mesure agroenvironnementale, prairie fleurie, ...</td>\n",
       "      <td>Agrienvironmental measure, flowering meadow, p...</td>\n",
       "    </tr>\n",
       "    <tr>\n",
       "      <th>2</th>\n",
       "      <td>Les enjeux de l’équivalence écologique pour la...</td>\n",
       "      <td>The issue of ecological equivalence in designi...</td>\n",
       "      <td>L’évolution du contexte réglementaire a renfor...</td>\n",
       "      <td>Changes in the regulatory context have reinfor...</td>\n",
       "      <td>Compensation écologique, impact sur la biodive...</td>\n",
       "      <td>Ecological compensation, impact on biodiversit...</td>\n",
       "    </tr>\n",
       "  </tbody>\n",
       "</table>\n",
       "</div>"
      ],
      "text/plain": [
       "                                            Titre FR  \\\n",
       "0  Une approche innovante de modélisation du risq...   \n",
       "1  Mise en œuvre de deux mesures agrienvironnemen...   \n",
       "2  Les enjeux de l’équivalence écologique pour la...   \n",
       "\n",
       "                                            Titre GB  \\\n",
       "0  An innovative approach to modelling forest fir...   \n",
       "1  Implementation of two result-based agrienviron...   \n",
       "2  The issue of ecological equivalence in designi...   \n",
       "\n",
       "                                            RésuméFR  \\\n",
       "0  Une méthode de cartographie des interfaces hab...   \n",
       "1  Afin de répondre aux exigences de la société e...   \n",
       "2  L’évolution du contexte réglementaire a renfor...   \n",
       "\n",
       "                                           Résumé GB  \\\n",
       "0  A method to characterize and to map wildland-u...   \n",
       "1  In order to meet society's demands for a more ...   \n",
       "2  Changes in the regulatory context have reinfor...   \n",
       "\n",
       "                                        Mots-clés FR  \\\n",
       "0  Interface habitat-forêt, risque d’incendie, dé...   \n",
       "1  Mesure agroenvironnementale, prairie fleurie, ...   \n",
       "2  Compensation écologique, impact sur la biodive...   \n",
       "\n",
       "                                        Mots clés GB  \n",
       "0  Wildland-urban interface, fire risk, fire star...  \n",
       "1  Agrienvironmental measure, flowering meadow, p...  \n",
       "2  Ecological compensation, impact on biodiversit...  "
      ]
     },
     "execution_count": 4,
     "metadata": {},
     "output_type": "execute_result"
    }
   ],
   "source": [
    "set_vf_df.head(3)"
   ]
  },
  {
   "cell_type": "code",
   "execution_count": 5,
   "id": "add91ec3-0b28-4deb-8f76-3e4c95460ab7",
   "metadata": {},
   "outputs": [],
   "source": [
    "def create_gold_standard(df, col):\n",
    "    gold_standard = []\n",
    "    for x in df[col]:\n",
    "        gold_standard.extend(x.split(',')) \n",
    "    gold_standard = set([x.strip().lower() for x in gold_standard])\n",
    "    return gold_standard\n",
    "\n",
    "gold_standard_eat_en = create_gold_standard(eat_vf_df, 'en_keyword_s')\n",
    "gold_standard_eat_fr = create_gold_standard(eat_vf_df, 'fr_keyword_s')\n",
    "gold_standard_set_en = create_gold_standard(set_vf_df, 'Mots clés GB')\n",
    "gold_standard_set_fr = create_gold_standard(set_vf_df, 'Mots-clés FR')\n",
    "gold_standard_eat_en.remove('')\n",
    "gold_standard_eat_fr.remove('')"
   ]
  },
  {
   "cell_type": "code",
   "execution_count": 6,
   "id": "21736b60-43b2-437d-8305-3cda61902d85",
   "metadata": {},
   "outputs": [],
   "source": [
    "def extract_keywords(text, model, thres=0.6):\n",
    "    kw_model = KeyBERT(model=model)\n",
    "    ngram = [(1,1), (2,2), (3,3), (4,4), (5,5)] #, (6,6), (7,7), (8,8), (9,9), (10,10)]\n",
    "    keywords = []\n",
    "    for n in ngram:\n",
    "        keywords.extend(kw_model.extract_keywords(text, keyphrase_ngram_range = n))\n",
    "    return [k[0] for k in keywords if k[1] > thres]"
   ]
  },
  {
   "cell_type": "code",
   "execution_count": 7,
   "id": "ba03691b-9ca0-4bee-b01e-7261b6043471",
   "metadata": {},
   "outputs": [],
   "source": [
    "eat_vf_df['en_title_abstract'] = eat_vf_df['en_title_s'] + eat_vf_df['en_abstract_s4']\n",
    "eat_vf_df['fr_title_abstract'] = eat_vf_df['fr_title_s'] + eat_vf_df['fr_abstract_s']"
   ]
  },
  {
   "cell_type": "code",
   "execution_count": null,
   "id": "3092713f-638c-4f72-af4d-1130af139648",
   "metadata": {},
   "outputs": [],
   "source": [
    "eat_vf_df['en_preds'] = [extract_keywords(x, 'all-MiniLM-L6-v2') for x in eat_vf_df['en_title_abstract']]"
   ]
  },
  {
   "cell_type": "code",
   "execution_count": null,
   "id": "f8f7c08f-0f4e-4091-bffd-9f926ca039b5",
   "metadata": {},
   "outputs": [],
   "source": [
    "eat_vf_df['fr_preds'] = [extract_keywords(x, 'paraphrase-multilingual-MiniLM-L12-v2') for x in eat_vf_df['fr_title_abstract']]"
   ]
  },
  {
   "cell_type": "code",
   "execution_count": null,
   "id": "dd7bdda0-137e-469e-86c1-cb2cff0ddb36",
   "metadata": {},
   "outputs": [],
   "source": [
    "en_preds = []\n",
    "for li in eat_vf_df['en_preds']:\n",
    "    en_preds.extend(li)"
   ]
  },
  {
   "cell_type": "code",
   "execution_count": null,
   "id": "66b81f3e-cfcd-4f7a-9a48-07519c20749b",
   "metadata": {},
   "outputs": [],
   "source": [
    "fr_preds = []\n",
    "for li in eat_vf_df['fr_preds']:\n",
    "    fr_preds.extend(li)"
   ]
  },
  {
   "cell_type": "code",
   "execution_count": null,
   "id": "b4966c8f-953f-40f7-acda-950284770137",
   "metadata": {},
   "outputs": [],
   "source": [
    "def computeTermEvalMetrics(extracted_terms, gold_df):\n",
    "    #make lower case cause gold standard is lower case\n",
    "    extracted_terms = set([item.lower() for item in extracted_terms])\n",
    "    gold_set=set(gold_df)\n",
    "    true_pos=extracted_terms.intersection(gold_set)\n",
    "    recall=round(len(true_pos)*100/len(gold_set),2) if gold_set != 0 else 0\n",
    "    precision=round(len(true_pos)*100/len(extracted_terms),2) if extracted_terms != 0 else 0\n",
    "    fscore = round(2*(precision*recall)/(precision+recall),2) if precision + recall != 0 else 0\n",
    "\n",
    "    print(\"Extracted\",len(extracted_terms))\n",
    "    print(\"Gold\",len(gold_set))\n",
    "    print(\"Intersection\",len(true_pos))\n",
    "    print(\"Precision:\", precision)\n",
    "    print(\"Recall:\", recall)\n",
    "    print(\"F1:\", fscore)\n",
    "\n",
    "    print(str(len(extracted_terms))+ ' | ' + str(len(gold_set)) +' | ' + str(len(true_pos)) +' | ' + str(precision)+' & ' +  str(recall)+' & ' +  str(fscore))\n",
    "    return len(extracted_terms), len(gold_set), len(true_pos), precision, recall, fscore"
   ]
  },
  {
   "cell_type": "code",
   "execution_count": null,
   "id": "49b8adeb-48e4-4ee6-bb32-0f0e33d95859",
   "metadata": {},
   "outputs": [],
   "source": [
    "computeTermEvalMetrics(en_preds, gold_standard_eat_en)"
   ]
  },
  {
   "cell_type": "code",
   "execution_count": null,
   "id": "bc853685-4f40-4c48-a263-27cc432d9aef",
   "metadata": {},
   "outputs": [],
   "source": [
    "computeTermEvalMetrics(fr_preds, gold_standard_eat_fr)"
   ]
  },
  {
   "cell_type": "code",
   "execution_count": null,
   "id": "db1d0735-d9b0-4c93-a3ec-626497314c59",
   "metadata": {},
   "outputs": [],
   "source": [
    "set_vf_df.columns"
   ]
  },
  {
   "cell_type": "code",
   "execution_count": null,
   "id": "ad3f2b69-fd40-4ea9-b564-fc5a89adde23",
   "metadata": {},
   "outputs": [],
   "source": [
    "set_vf_df['en_title_abstract'] = set_vf_df['Titre GB'] + set_vf_df['Résumé GB']\n",
    "set_vf_df['fr_title_abstract'] = set_vf_df['Titre FR'] + set_vf_df['RésuméFR']"
   ]
  },
  {
   "cell_type": "code",
   "execution_count": null,
   "id": "46e2f92d-4c0f-4fff-b86b-e3932686a54b",
   "metadata": {},
   "outputs": [],
   "source": [
    "set_vf_df['en_preds'] = [extract_keywords(x, 'all-MiniLM-L6-v2') for x in set_vf_df['en_title_abstract']]\n",
    "set_vf_df['fr_preds'] = [extract_keywords(x, 'paraphrase-multilingual-MiniLM-L12-v2') for x in set_vf_df['fr_title_abstract']]"
   ]
  },
  {
   "cell_type": "code",
   "execution_count": null,
   "id": "c0bb19df-e9af-41f7-8c0d-8700fea62ed0",
   "metadata": {},
   "outputs": [],
   "source": [
    "en_preds_ = []\n",
    "for li in set_vf_df['en_preds']:\n",
    "    en_preds_.extend(li)\n",
    "computeTermEvalMetrics(en_preds_, gold_standard_set_en)"
   ]
  },
  {
   "cell_type": "code",
   "execution_count": null,
   "id": "081e1e50-6d31-4933-b668-c87fb05c38d1",
   "metadata": {},
   "outputs": [],
   "source": [
    "fr_preds_ = []\n",
    "for li in set_vf_df['fr_preds']:\n",
    "    fr_preds_.extend(li)\n",
    "computeTermEvalMetrics(fr_preds_, gold_standard_set_fr)"
   ]
  },
  {
   "cell_type": "code",
   "execution_count": null,
   "id": "59a4350e-800e-4dd2-8851-76c236bb32be",
   "metadata": {},
   "outputs": [],
   "source": [
    "def get_true_kw(df, keywords, corpus, groundtruth):\n",
    "    df[groundtruth] = pd.Series(dtype='object')\n",
    "    for i in range(len(df)):\n",
    "        df[groundtruth].iloc[i] = [x for x in df[keywords].iloc[i].split(',') if x.strip().lower() in df[corpus].iloc[i].lower()]\n",
    "    return df"
   ]
  },
  {
   "cell_type": "code",
   "execution_count": null,
   "id": "9dc1a6c1-eb44-49dd-80db-47136d1a5f9c",
   "metadata": {},
   "outputs": [],
   "source": [
    "set_vf_df.columns"
   ]
  },
  {
   "cell_type": "code",
   "execution_count": null,
   "id": "dc24bb82-0a84-4ac5-b540-9db9a6f1f16e",
   "metadata": {},
   "outputs": [],
   "source": [
    "eat_vf_df = get_true_kw(eat_vf_df, 'en_keyword_s', 'en_title_abstract', 'en_kw_known')\n",
    "eat_vf_df = get_true_kw(eat_vf_df, 'fr_keyword_s', 'fr_title_abstract', 'fr_kw_known')\n",
    "set_vf_df = get_true_kw(set_vf_df,  'Mots clés GB', 'en_title_abstract', 'en_kw_known')\n",
    "set_vf_df = get_true_kw(set_vf_df, 'Mots-clés FR', 'fr_title_abstract', 'fr_kw_known')"
   ]
  },
  {
   "cell_type": "code",
   "execution_count": null,
   "id": "8aacbf9f-b9fd-4dd2-9080-08af6805b50c",
   "metadata": {},
   "outputs": [],
   "source": [
    "eat_en_gt = []\n",
    "for li in eat_vf_df['en_kw_known']:\n",
    "    eat_en_gt.extend(li)\n",
    "eat_en_gt = [x.strip().lower() for x in eat_en_gt]  \n",
    "eat_en_gt.remove('')\n",
    "computeTermEvalMetrics(en_preds, eat_en_gt)"
   ]
  },
  {
   "cell_type": "code",
   "execution_count": null,
   "id": "0871a34f-2ae3-4807-b204-156f1fb7a089",
   "metadata": {},
   "outputs": [],
   "source": [
    "eat_fr_gt = []\n",
    "for li in eat_vf_df['fr_kw_known']:\n",
    "    eat_fr_gt.extend(li)\n",
    "eat_fr_gt = [x.strip().lower() for x in eat_fr_gt]  \n",
    "eat_fr_gt.remove('')\n",
    "computeTermEvalMetrics(fr_preds, eat_fr_gt)"
   ]
  },
  {
   "cell_type": "code",
   "execution_count": null,
   "id": "ca953b86-b03a-431a-9f51-a8d31183aee5",
   "metadata": {},
   "outputs": [],
   "source": [
    "set_en_gt = []\n",
    "for li in set_vf_df['en_kw_known']:\n",
    "    set_en_gt.extend(li)\n",
    "set_en_gt = [x.strip().lower() for x in set_en_gt]  \n",
    "set_en_gt.remove('')\n",
    "computeTermEvalMetrics(en_preds_, set_en_gt)"
   ]
  },
  {
   "cell_type": "code",
   "execution_count": null,
   "id": "dd2f8f44-d4db-440f-b690-0eebbff2d704",
   "metadata": {},
   "outputs": [],
   "source": [
    "set_fr_gt = []\n",
    "for li in set_vf_df['fr_kw_known']:\n",
    "    set_fr_gt.extend(li)\n",
    "set_fr_gt = [x.strip().lower() for x in set_fr_gt] \n",
    "set_fr_gt.remove('')\n",
    "computeTermEvalMetrics(fr_preds_, set_fr_gt)"
   ]
  },
  {
   "cell_type": "code",
   "execution_count": null,
   "id": "ec9a614f-f89a-459a-b5b2-a2792f7ce07e",
   "metadata": {},
   "outputs": [],
   "source": []
  }
 ],
 "metadata": {
  "kernelspec": {
   "display_name": "Python 3 (ipykernel)",
   "language": "python",
   "name": "python3"
  },
  "language_info": {
   "codemirror_mode": {
    "name": "ipython",
    "version": 3
   },
   "file_extension": ".py",
   "mimetype": "text/x-python",
   "name": "python",
   "nbconvert_exporter": "python",
   "pygments_lexer": "ipython3",
   "version": "3.7.13"
  }
 },
 "nbformat": 4,
 "nbformat_minor": 5
}
