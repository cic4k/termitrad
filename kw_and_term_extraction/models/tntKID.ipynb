{
 "cells": [
  {
   "cell_type": "code",
   "execution_count": 1,
   "id": "3321143d-0d2c-4f3c-9234-a682c4532f82",
   "metadata": {},
   "outputs": [],
   "source": [
    "import pandas as pd\n",
    "import numpy as np\n",
    "import matplotlib.pyplot as plt\n",
    "import seaborn as sns\n",
    "\n",
    "eat_vf_df = pd.read_excel('./sample_data/ingénieriesEAT-VF-2021030.xlsx').rename(columns={'Gestion et traitement des déjections animales en Italie = ':'fr_title_s'})\n",
    "set_vf_df = pd.read_excel('./sample_data/SET-VF20210211.xlsx')\n",
    "\n",
    "def create_gold_standard(df, col):\n",
    "    gold_standard = []\n",
    "    for x in df[col]:\n",
    "        gold_standard.extend(x.split(',')) \n",
    "    gold_standard = set([x.strip().lower() for x in gold_standard])\n",
    "    return gold_standard\n",
    "\n",
    "gold_standard_eat_en = create_gold_standard(eat_vf_df, 'en_keyword_s')\n",
    "gold_standard_eat_fr = create_gold_standard(eat_vf_df, 'fr_keyword_s')\n",
    "gold_standard_set_en = create_gold_standard(set_vf_df, 'Mots clés GB')\n",
    "gold_standard_set_fr = create_gold_standard(set_vf_df, 'Mots-clés FR')\n",
    "gold_standard_eat_en.remove('')\n",
    "gold_standard_eat_fr.remove('')\n",
    "\n",
    "def create_gold_standard_(df, col):\n",
    "    gold_standard = []\n",
    "    for x in df[col]:\n",
    "        gold_standard.extend(x) \n",
    "    gold_standard = set([x.strip().lower() for x in gold_standard])\n",
    "    return gold_standard\n",
    "\n",
    "def get_true_kw(df, keywords, corpus, groundtruth):\n",
    "    df[groundtruth] = pd.Series(dtype='object')\n",
    "    for i in range(len(df)):\n",
    "        df[groundtruth].iloc[i] = [x for x in df[keywords].iloc[i].split(',') if x.strip().lower() in df[corpus].iloc[i].lower()]\n",
    "    return df\n",
    "\n",
    "eat_vf_df['en_title_abstract'] = eat_vf_df['en_title_s'] + eat_vf_df['en_abstract_s4']\n",
    "eat_vf_df['fr_title_abstract'] = eat_vf_df['fr_title_s'] + eat_vf_df['fr_abstract_s']\n",
    "set_vf_df['en_title_abstract'] = set_vf_df['Titre GB'] + set_vf_df['Résumé GB']\n",
    "set_vf_df['fr_title_abstract'] = set_vf_df['Titre FR'] + set_vf_df['RésuméFR']\n",
    "\n",
    "eat_vf_df = get_true_kw(eat_vf_df, 'en_keyword_s', 'en_title_abstract', 'en_kw_known')\n",
    "eat_vf_df = get_true_kw(eat_vf_df, 'fr_keyword_s', 'fr_title_abstract', 'fr_kw_known')\n",
    "set_vf_df = get_true_kw(set_vf_df,  'Mots clés GB', 'en_title_abstract', 'en_kw_known')\n",
    "set_vf_df = get_true_kw(set_vf_df, 'Mots-clés FR', 'fr_title_abstract', 'fr_kw_known')\n",
    "\n",
    "\n",
    "gold_standard_eat_en_ = create_gold_standard_(eat_vf_df, 'en_kw_known')\n",
    "gold_standard_eat_fr_ = create_gold_standard_(eat_vf_df, 'fr_kw_known')\n",
    "gold_standard_set_en_ = create_gold_standard_(set_vf_df, 'en_kw_known')\n",
    "gold_standard_set_fr_ = create_gold_standard_(set_vf_df, 'fr_kw_known')\n",
    "gold_standard_eat_en_.remove('')\n",
    "gold_standard_eat_fr_.remove('')\n",
    "\n",
    "def computeTermEvalMetrics(extracted_terms, gold_df):\n",
    "    #make lower case cause gold standard is lower case\n",
    "    extracted_terms = set([item.lower() for item in extracted_terms])\n",
    "    gold_set=set(gold_df)\n",
    "    true_pos=extracted_terms.intersection(gold_set)\n",
    "    recall=round(len(true_pos)*100/len(gold_set),2) if gold_set != 0 else 0\n",
    "    precision=round(len(true_pos)*100/len(extracted_terms),2) if extracted_terms != 0 else 0\n",
    "    fscore = round(2*(precision*recall)/(precision+recall),2) if precision + recall != 0 else 0\n",
    "    print(str(len(extracted_terms))+ ' , ' + str(len(gold_set)) +' , ' + str(len(true_pos)) +' , ' + str(precision)+' , ' +  str(recall)+' , ' +  str(fscore))\n",
    "    return len(extracted_terms), len(gold_set), len(true_pos), precision, recall, fscore"
   ]
  },
  {
   "cell_type": "code",
   "execution_count": 2,
   "id": "3d0e0e7d-4274-4a02-8a0f-8b9426c8818f",
   "metadata": {},
   "outputs": [
    {
     "data": {
      "text/plain": [
       "Index(['Titre FR', 'Titre GB', 'RésuméFR', 'Résumé GB', 'Mots-clés FR',\n",
       "       'Mots clés GB', 'en_title_abstract', 'fr_title_abstract', 'en_kw_known',\n",
       "       'fr_kw_known'],\n",
       "      dtype='object')"
      ]
     },
     "execution_count": 2,
     "metadata": {},
     "output_type": "execute_result"
    }
   ],
   "source": [
    "set_vf_df.columns"
   ]
  },
  {
   "cell_type": "code",
   "execution_count": 3,
   "id": "a993f6b3-dd14-4473-be32-abe2c4465883",
   "metadata": {},
   "outputs": [],
   "source": [
    "en_eat = eat_vf_df[['en_title_s','en_abstract_s4','en_keyword_s']].rename(columns={'en_title_s':'title',\n",
    "                                                                                  'en_abstract_s4':'abstract',\n",
    "                                                                                   'en_keyword_s':'keyword'})\n",
    "fr_eat = eat_vf_df[['fr_title_s','fr_abstract_s','fr_keyword_s']].rename(columns={'fr_title_s':'title',\n",
    "                                                                                  'fr_abstract_s':'abstract',\n",
    "                                                                                  'fr_keyword_s':'keyword'})\n",
    "\n",
    "en_set = set_vf_df[['Titre GB','Résumé GB', 'Mots clés GB']].rename(columns={'Titre GB':'title',\n",
    "                                                                             'Résumé GB':'abstract',\n",
    "                                                                             'Mots clés GB':'keyword'})\n",
    "fr_set = set_vf_df[['Titre FR', 'RésuméFR', 'Mots-clés FR']].rename(columns={'Titre FR':'title', \n",
    "                                                                            'RésuméFR':'abstract',\n",
    "                                                                             'Mots-clés FR':'keyword'})"
   ]
  },
  {
   "cell_type": "code",
   "execution_count": 4,
   "id": "46a2acde-5d7d-4ac3-8542-ea4c113d466c",
   "metadata": {},
   "outputs": [],
   "source": [
    "en_eat['keyword'] = [x.lower().replace(',',';') for x in en_eat['keyword']]\n",
    "fr_eat['keyword'] = [x.lower().replace(',',';') for x in fr_eat['keyword'] ]\n",
    "en_set['keyword'] = [x.lower().replace(',',';') for x in en_set['keyword'] ]\n",
    "fr_set['keyword'] = [x.lower().replace(',',';') for x in fr_set['keyword'] ]"
   ]
  },
  {
   "cell_type": "code",
   "execution_count": 8,
   "id": "411761db-ce6a-49df-ba3f-b6419f404479",
   "metadata": {},
   "outputs": [],
   "source": [
    "en_eat.to_json('./tntKID_test_data/en_eat.json', orient='records', lines=True)\n",
    "fr_eat.to_json('./tntKID_test_data/fr_eat.json', orient='records', lines=True)\n",
    "en_set.to_json('./tntKID_test_data/en_set.json', orient='records', lines=True)\n",
    "fr_set.to_json('./tntKID_test_data/fr_set.json', orient='records', lines=True)"
   ]
  },
  {
   "cell_type": "code",
   "execution_count": 9,
   "id": "bb9e9418-bccb-46a2-99b0-7e27e0924eeb",
   "metadata": {},
   "outputs": [
    {
     "data": {
      "text/plain": [
       "'/home/tranthh/termirad/termiraid_ate'"
      ]
     },
     "execution_count": 9,
     "metadata": {},
     "output_type": "execute_result"
    }
   ],
   "source": [
    "pwd"
   ]
  },
  {
   "cell_type": "code",
   "execution_count": 14,
   "id": "6cc329cc-b126-41e1-bd3a-b9bee256a050",
   "metadata": {},
   "outputs": [],
   "source": [
    "en_eat_preds = pd.read_csv('./tntKid_preds/en_eat_preds.csv', delimiter='\\t')\n",
    "fr_eat_preds = pd.read_csv('./tntKid_preds/fr_eat_preds.csv', delimiter='\\t')\n",
    "en_set_preds = pd.read_csv('./tntKid_preds/en_set_preds.csv', delimiter='\\t')\n",
    "fr_set_preds = pd.read_csv('./tntKid_preds/fr_set_preds.csv', delimiter='\\t')"
   ]
  },
  {
   "cell_type": "code",
   "execution_count": 19,
   "id": "9e86d7fa-d36f-401e-bd50-2989deb7717d",
   "metadata": {},
   "outputs": [],
   "source": [
    "def pred_list(df):\n",
    "    preds = []\n",
    "    for x in [str(x).split(';') for x in df.keywords]:\n",
    "        preds.extend(x)\n",
    "    return preds"
   ]
  },
  {
   "cell_type": "code",
   "execution_count": 21,
   "id": "0f07fe46-6996-4fe1-9690-1173664b81c2",
   "metadata": {},
   "outputs": [
    {
     "name": "stdout",
     "output_type": "stream",
     "text": [
      "2276 , 1361 , 339 , 14.89 , 24.91 , 18.64\n",
      "945 , 1339 , 64 , 6.77 , 4.78 , 5.6\n",
      "1076 , 650 , 139 , 12.92 , 21.38 , 16.11\n",
      "712 , 638 , 35 , 4.92 , 5.49 , 5.19\n"
     ]
    },
    {
     "data": {
      "text/plain": [
       "(712, 638, 35, 4.92, 5.49, 5.19)"
      ]
     },
     "execution_count": 21,
     "metadata": {},
     "output_type": "execute_result"
    }
   ],
   "source": [
    "computeTermEvalMetrics(pred_list(en_eat_preds), gold_standard_eat_en)\n",
    "computeTermEvalMetrics(pred_list(fr_eat_preds), gold_standard_eat_fr)\n",
    "computeTermEvalMetrics(pred_list(en_set_preds), gold_standard_set_en)\n",
    "computeTermEvalMetrics(pred_list(fr_set_preds), gold_standard_set_fr)"
   ]
  },
  {
   "cell_type": "code",
   "execution_count": 22,
   "id": "b09c134a-be82-47be-a806-27fef6f93580",
   "metadata": {},
   "outputs": [
    {
     "name": "stdout",
     "output_type": "stream",
     "text": [
      "2276 , 595 , 282 , 12.39 , 47.39 , 19.64\n",
      "945 , 565 , 57 , 6.03 , 10.09 , 7.55\n",
      "1076 , 314 , 124 , 11.52 , 39.49 , 17.84\n",
      "712 , 277 , 30 , 4.21 , 10.83 , 6.06\n"
     ]
    },
    {
     "data": {
      "text/plain": [
       "(712, 277, 30, 4.21, 10.83, 6.06)"
      ]
     },
     "execution_count": 22,
     "metadata": {},
     "output_type": "execute_result"
    }
   ],
   "source": [
    "computeTermEvalMetrics(pred_list(en_eat_preds), gold_standard_eat_en_)\n",
    "computeTermEvalMetrics(pred_list(fr_eat_preds), gold_standard_eat_fr_)\n",
    "computeTermEvalMetrics(pred_list(en_set_preds), gold_standard_set_en_)\n",
    "computeTermEvalMetrics(pred_list(fr_set_preds), gold_standard_set_fr_)"
   ]
  },
  {
   "cell_type": "code",
   "execution_count": 23,
   "id": "8df1557e-97c8-4215-b831-5747b9b361ee",
   "metadata": {},
   "outputs": [],
   "source": [
    "en_eat_preds_kptimes = pd.read_csv('./tntKid_preds/en_eat_preds_kptimes.csv', delimiter='\\t')\n",
    "fr_eat_preds_kptimes = pd.read_csv('./tntKid_preds/fr_eat_preds_kptimes.csv', delimiter='\\t')\n",
    "en_set_preds_kptimes = pd.read_csv('./tntKid_preds/en_set_preds_kptimes.csv', delimiter='\\t')\n",
    "fr_set_preds_kptimes = pd.read_csv('./tntKid_preds/fr_set_preds_kptimes.csv', delimiter='\\t')"
   ]
  },
  {
   "cell_type": "code",
   "execution_count": 24,
   "id": "4dfae812-951c-4635-81b7-f5d6afd65a8c",
   "metadata": {},
   "outputs": [
    {
     "name": "stdout",
     "output_type": "stream",
     "text": [
      "450 , 1361 , 96 , 21.33 , 7.05 , 10.6\n",
      "104 , 1339 , 12 , 11.54 , 0.9 , 1.67\n",
      "260 , 650 , 42 , 16.15 , 6.46 , 9.23\n",
      "80 , 638 , 4 , 5.0 , 0.63 , 1.12\n",
      "450 , 595 , 86 , 19.11 , 14.45 , 16.46\n",
      "104 , 565 , 11 , 10.58 , 1.95 , 3.29\n",
      "260 , 314 , 37 , 14.23 , 11.78 , 12.89\n",
      "80 , 277 , 4 , 5.0 , 1.44 , 2.24\n"
     ]
    },
    {
     "data": {
      "text/plain": [
       "(80, 277, 4, 5.0, 1.44, 2.24)"
      ]
     },
     "execution_count": 24,
     "metadata": {},
     "output_type": "execute_result"
    }
   ],
   "source": [
    "computeTermEvalMetrics(pred_list(en_eat_preds_kptimes), gold_standard_eat_en)\n",
    "computeTermEvalMetrics(pred_list(fr_eat_preds_kptimes), gold_standard_eat_fr)\n",
    "computeTermEvalMetrics(pred_list(en_set_preds_kptimes), gold_standard_set_en)\n",
    "computeTermEvalMetrics(pred_list(fr_set_preds_kptimes), gold_standard_set_fr)\n",
    "\n",
    "computeTermEvalMetrics(pred_list(en_eat_preds_kptimes), gold_standard_eat_en_)\n",
    "computeTermEvalMetrics(pred_list(fr_eat_preds_kptimes), gold_standard_eat_fr_)\n",
    "computeTermEvalMetrics(pred_list(en_set_preds_kptimes), gold_standard_set_en_)\n",
    "computeTermEvalMetrics(pred_list(fr_set_preds_kptimes), gold_standard_set_fr_)"
   ]
  },
  {
   "cell_type": "code",
   "execution_count": 1,
   "id": "4069d7bc-5ba6-40a4-b3cc-22e6a5abfb89",
   "metadata": {},
   "outputs": [
    {
     "data": {
      "text/html": [
       "<div>\n",
       "<style scoped>\n",
       "    .dataframe tbody tr th:only-of-type {\n",
       "        vertical-align: middle;\n",
       "    }\n",
       "\n",
       "    .dataframe tbody tr th {\n",
       "        vertical-align: top;\n",
       "    }\n",
       "\n",
       "    .dataframe thead th {\n",
       "        text-align: right;\n",
       "    }\n",
       "</style>\n",
       "<table border=\"1\" class=\"dataframe\">\n",
       "  <thead>\n",
       "    <tr style=\"text-align: right;\">\n",
       "      <th></th>\n",
       "      <th>Unnamed: 0</th>\n",
       "      <th>text</th>\n",
       "      <th>keywords</th>\n",
       "    </tr>\n",
       "  </thead>\n",
       "  <tbody>\n",
       "    <tr>\n",
       "      <th>0</th>\n",
       "      <td>0</td>\n",
       "      <td>Development of the Rhône and reserved flow. Op...</td>\n",
       "      <td>NaN</td>\n",
       "    </tr>\n",
       "    <tr>\n",
       "      <th>1</th>\n",
       "      <td>1</td>\n",
       "      <td>Amenity: quality in the social relationships, ...</td>\n",
       "      <td>political</td>\n",
       "    </tr>\n",
       "    <tr>\n",
       "      <th>2</th>\n",
       "      <td>2</td>\n",
       "      <td>Amenities, non-market functions and forest man...</td>\n",
       "      <td>NaN</td>\n",
       "    </tr>\n",
       "    <tr>\n",
       "      <th>3</th>\n",
       "      <td>3</td>\n",
       "      <td>Relationships with other abiotic and biotic ec...</td>\n",
       "      <td>algae;water</td>\n",
       "    </tr>\n",
       "    <tr>\n",
       "      <th>4</th>\n",
       "      <td>4</td>\n",
       "      <td>Linking between different scales of space and ...</td>\n",
       "      <td>environment;space</td>\n",
       "    </tr>\n",
       "    <tr>\n",
       "      <th>5</th>\n",
       "      <td>5</td>\n",
       "      <td>Nonmarket benefits from Brest natural harbour ...</td>\n",
       "      <td>water;france;brest natural;agricultural</td>\n",
       "    </tr>\n",
       "    <tr>\n",
       "      <th>6</th>\n",
       "      <td>6</td>\n",
       "      <td>Assessment of the workings of a pig slurry tre...</td>\n",
       "      <td>pig</td>\n",
       "    </tr>\n",
       "    <tr>\n",
       "      <th>7</th>\n",
       "      <td>7</td>\n",
       "      <td>Environmental assessement of landfill GHG emis...</td>\n",
       "      <td>evolution;greenhouse gas emissions;landfills</td>\n",
       "    </tr>\n",
       "    <tr>\n",
       "      <th>8</th>\n",
       "      <td>8</td>\n",
       "      <td>Natural reforestation and growth of brushwood ...</td>\n",
       "      <td>natural;agricultural</td>\n",
       "    </tr>\n",
       "    <tr>\n",
       "      <th>9</th>\n",
       "      <td>9</td>\n",
       "      <td>Design, implementation and operation of sand f...</td>\n",
       "      <td>filters;france</td>\n",
       "    </tr>\n",
       "    <tr>\n",
       "      <th>10</th>\n",
       "      <td>10</td>\n",
       "      <td>How can the EAFRD support green tourism?. The ...</td>\n",
       "      <td>agricultural;green tourism;agricultural popula...</td>\n",
       "    </tr>\n",
       "    <tr>\n",
       "      <th>11</th>\n",
       "      <td>11</td>\n",
       "      <td>Comparaison between several types of construct...</td>\n",
       "      <td>constructed wetlands</td>\n",
       "    </tr>\n",
       "    <tr>\n",
       "      <th>12</th>\n",
       "      <td>12</td>\n",
       "      <td>Design of communicating spatial information sy...</td>\n",
       "      <td>communicating spatial;agricultural</td>\n",
       "    </tr>\n",
       "    <tr>\n",
       "      <th>13</th>\n",
       "      <td>13</td>\n",
       "      <td>Contribution of remote sensing for the analysi...</td>\n",
       "      <td>NaN</td>\n",
       "    </tr>\n",
       "    <tr>\n",
       "      <th>14</th>\n",
       "      <td>14</td>\n",
       "      <td>Virtual mudflows and avalanches: a visual comm...</td>\n",
       "      <td>natural;research;prevention of natural risks</td>\n",
       "    </tr>\n",
       "    <tr>\n",
       "      <th>15</th>\n",
       "      <td>15</td>\n",
       "      <td>From theoretical ecology to engineering. Role ...</td>\n",
       "      <td>evolution;engineering;ecology</td>\n",
       "    </tr>\n",
       "    <tr>\n",
       "      <th>16</th>\n",
       "      <td>16</td>\n",
       "      <td>The usefulness of the notion of governance for...</td>\n",
       "      <td>management</td>\n",
       "    </tr>\n",
       "    <tr>\n",
       "      <th>17</th>\n",
       "      <td>17</td>\n",
       "      <td>Definition and integration on regional scale o...</td>\n",
       "      <td>phosphorus;watershed;france;cétrais watershed;...</td>\n",
       "    </tr>\n",
       "    <tr>\n",
       "      <th>18</th>\n",
       "      <td>18</td>\n",
       "      <td>Determination of Gypsy moth populations in the...</td>\n",
       "      <td>populations</td>\n",
       "    </tr>\n",
       "    <tr>\n",
       "      <th>19</th>\n",
       "      <td>19</td>\n",
       "      <td>Design of a database for dam ageing scenarios ...</td>\n",
       "      <td>dams</td>\n",
       "    </tr>\n",
       "  </tbody>\n",
       "</table>\n",
       "</div>"
      ],
      "text/plain": [
       "    Unnamed: 0                                               text  \\\n",
       "0            0  Development of the Rhône and reserved flow. Op...   \n",
       "1            1  Amenity: quality in the social relationships, ...   \n",
       "2            2  Amenities, non-market functions and forest man...   \n",
       "3            3  Relationships with other abiotic and biotic ec...   \n",
       "4            4  Linking between different scales of space and ...   \n",
       "5            5  Nonmarket benefits from Brest natural harbour ...   \n",
       "6            6  Assessment of the workings of a pig slurry tre...   \n",
       "7            7  Environmental assessement of landfill GHG emis...   \n",
       "8            8  Natural reforestation and growth of brushwood ...   \n",
       "9            9  Design, implementation and operation of sand f...   \n",
       "10          10  How can the EAFRD support green tourism?. The ...   \n",
       "11          11  Comparaison between several types of construct...   \n",
       "12          12  Design of communicating spatial information sy...   \n",
       "13          13  Contribution of remote sensing for the analysi...   \n",
       "14          14  Virtual mudflows and avalanches: a visual comm...   \n",
       "15          15  From theoretical ecology to engineering. Role ...   \n",
       "16          16  The usefulness of the notion of governance for...   \n",
       "17          17  Definition and integration on regional scale o...   \n",
       "18          18  Determination of Gypsy moth populations in the...   \n",
       "19          19  Design of a database for dam ageing scenarios ...   \n",
       "\n",
       "                                             keywords  \n",
       "0                                                 NaN  \n",
       "1                                           political  \n",
       "2                                                 NaN  \n",
       "3                                         algae;water  \n",
       "4                                   environment;space  \n",
       "5             water;france;brest natural;agricultural  \n",
       "6                                                 pig  \n",
       "7        evolution;greenhouse gas emissions;landfills  \n",
       "8                                natural;agricultural  \n",
       "9                                      filters;france  \n",
       "10  agricultural;green tourism;agricultural popula...  \n",
       "11                               constructed wetlands  \n",
       "12                 communicating spatial;agricultural  \n",
       "13                                                NaN  \n",
       "14       natural;research;prevention of natural risks  \n",
       "15                      evolution;engineering;ecology  \n",
       "16                                         management  \n",
       "17  phosphorus;watershed;france;cétrais watershed;...  \n",
       "18                                        populations  \n",
       "19                                               dams  "
      ]
     },
     "execution_count": 1,
     "metadata": {},
     "output_type": "execute_result"
    }
   ],
   "source": [
    "import pandas as pd\n",
    "test = pd.read_csv('/home/tranthh/termirad/termiraid_ate/tntKid_preds/en_eat_preds_kptimes.csv', delimiter='\\t')\n",
    "test.head(20)"
   ]
  },
  {
   "cell_type": "code",
   "execution_count": null,
   "id": "2032146c-718a-4c63-a7e8-291a2d17c4a7",
   "metadata": {},
   "outputs": [],
   "source": []
  }
 ],
 "metadata": {
  "kernelspec": {
   "display_name": "Python 3 (ipykernel)",
   "language": "python",
   "name": "python3"
  },
  "language_info": {
   "codemirror_mode": {
    "name": "ipython",
    "version": 3
   },
   "file_extension": ".py",
   "mimetype": "text/x-python",
   "name": "python",
   "nbconvert_exporter": "python",
   "pygments_lexer": "ipython3",
   "version": "3.7.13"
  }
 },
 "nbformat": 4,
 "nbformat_minor": 5
}
