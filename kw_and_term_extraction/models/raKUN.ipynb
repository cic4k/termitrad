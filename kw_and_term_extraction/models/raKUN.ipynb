{
 "cells": [
  {
   "cell_type": "code",
   "execution_count": 1,
   "id": "0b4e57f0-1635-44f9-8e44-fbd3c578fb8c",
   "metadata": {},
   "outputs": [],
   "source": [
    "import pandas as pd\n",
    "import numpy as np\n",
    "import matplotlib.pyplot as plt\n",
    "import seaborn as sns\n",
    "\n",
    "eat_vf_df = pd.read_excel('./sample_data/ingénieriesEAT-VF-2021030.xlsx').rename(columns={'Gestion et traitement des déjections animales en Italie = ':'fr_title_s'})\n",
    "set_vf_df = pd.read_excel('./sample_data/SET-VF20210211.xlsx')\n",
    "\n",
    "def create_gold_standard(df, col):\n",
    "    gold_standard = []\n",
    "    for x in df[col]:\n",
    "        gold_standard.extend(x.split(',')) \n",
    "    gold_standard = set([x.strip().lower() for x in gold_standard])\n",
    "    return gold_standard\n",
    "\n",
    "gold_standard_eat_en = create_gold_standard(eat_vf_df, 'en_keyword_s')\n",
    "gold_standard_eat_fr = create_gold_standard(eat_vf_df, 'fr_keyword_s')\n",
    "gold_standard_set_en = create_gold_standard(set_vf_df, 'Mots clés GB')\n",
    "gold_standard_set_fr = create_gold_standard(set_vf_df, 'Mots-clés FR')\n",
    "gold_standard_eat_en.remove('')\n",
    "gold_standard_eat_fr.remove('')\n",
    "\n",
    "def create_gold_standard_(df, col):\n",
    "    gold_standard = []\n",
    "    for x in df[col]:\n",
    "        gold_standard.extend(x) \n",
    "    gold_standard = set([x.strip().lower() for x in gold_standard])\n",
    "    return gold_standard\n",
    "\n",
    "def get_true_kw(df, keywords, corpus, groundtruth):\n",
    "    df[groundtruth] = pd.Series(dtype='object')\n",
    "    for i in range(len(df)):\n",
    "        df[groundtruth].iloc[i] = [x for x in df[keywords].iloc[i].split(',') if x.strip().lower() in df[corpus].iloc[i].lower()]\n",
    "    return df\n",
    "\n",
    "eat_vf_df['en_title_abstract'] = eat_vf_df['en_title_s'] + eat_vf_df['en_abstract_s4']\n",
    "eat_vf_df['fr_title_abstract'] = eat_vf_df['fr_title_s'] + eat_vf_df['fr_abstract_s']\n",
    "set_vf_df['en_title_abstract'] = set_vf_df['Titre GB'] + set_vf_df['Résumé GB']\n",
    "set_vf_df['fr_title_abstract'] = set_vf_df['Titre FR'] + set_vf_df['RésuméFR']\n",
    "\n",
    "eat_vf_df = get_true_kw(eat_vf_df, 'en_keyword_s', 'en_title_abstract', 'en_kw_known')\n",
    "eat_vf_df = get_true_kw(eat_vf_df, 'fr_keyword_s', 'fr_title_abstract', 'fr_kw_known')\n",
    "set_vf_df = get_true_kw(set_vf_df,  'Mots clés GB', 'en_title_abstract', 'en_kw_known')\n",
    "set_vf_df = get_true_kw(set_vf_df, 'Mots-clés FR', 'fr_title_abstract', 'fr_kw_known')\n",
    "\n",
    "\n",
    "gold_standard_eat_en_ = create_gold_standard_(eat_vf_df, 'en_kw_known')\n",
    "gold_standard_eat_fr_ = create_gold_standard_(eat_vf_df, 'fr_kw_known')\n",
    "gold_standard_set_en_ = create_gold_standard_(set_vf_df, 'en_kw_known')\n",
    "gold_standard_set_fr_ = create_gold_standard_(set_vf_df, 'fr_kw_known')\n",
    "gold_standard_eat_en_.remove('')\n",
    "gold_standard_eat_fr_.remove('')"
   ]
  },
  {
   "cell_type": "code",
   "execution_count": 2,
   "id": "06dd335c-d5a3-476b-9003-4b8d109af4c0",
   "metadata": {},
   "outputs": [],
   "source": [
    "def computeTermEvalMetrics(extracted_terms, gold_df):\n",
    "    #make lower case cause gold standard is lower case\n",
    "    extracted_terms = set([item.lower() for item in extracted_terms])\n",
    "    gold_set=set(gold_df)\n",
    "    true_pos=extracted_terms.intersection(gold_set)\n",
    "    recall=round(len(true_pos)*100/len(gold_set),2) if gold_set != 0 else 0\n",
    "    precision=round(len(true_pos)*100/len(extracted_terms),2) if extracted_terms != 0 else 0\n",
    "    fscore = round(2*(precision*recall)/(precision+recall),2) if precision + recall != 0 else 0\n",
    "    print(str(len(extracted_terms))+ ' , ' + str(len(gold_set)) +' , ' + str(len(true_pos)) +' , ' + str(precision)+' , ' +  str(recall)+' , ' +  str(fscore))\n",
    "    return len(extracted_terms), len(gold_set), len(true_pos), precision, recall, fscore"
   ]
  },
  {
   "cell_type": "code",
   "execution_count": 3,
   "id": "b2fc6c68-3ad8-4dd5-8dd0-8e49e6d8b0f4",
   "metadata": {},
   "outputs": [],
   "source": [
    "from rakun2 import RakunKeyphraseDetector\n",
    "\n",
    "keyword_detector = RakunKeyphraseDetector({\"num_keywords\": 5,\n",
    "                                           \"merge_threshold\": 1.1,\n",
    "                                           \"alpha\": 0.3,\n",
    "                                           \"token_prune_len\": 3})\n"
   ]
  },
  {
   "cell_type": "code",
   "execution_count": 4,
   "id": "27759a70-6928-4baf-9eb9-5213aad8cf9e",
   "metadata": {},
   "outputs": [],
   "source": [
    "def extract_keywords(text, model):\n",
    "    return [k[0] for k in model.find_keywords(text, input_type=\"string\")]"
   ]
  },
  {
   "cell_type": "code",
   "execution_count": 5,
   "id": "d958c08d-c77e-4011-ae93-546753573c34",
   "metadata": {},
   "outputs": [],
   "source": [
    "eat_vf_df['en_preds'] = [extract_keywords(x, keyword_detector) for x in eat_vf_df['en_title_abstract']]\n",
    "eat_vf_df['fr_preds'] = [extract_keywords(x, keyword_detector) for x in eat_vf_df['fr_title_abstract']]\n",
    "\n",
    "set_vf_df['en_preds'] = [extract_keywords(x, keyword_detector) for x in set_vf_df['en_title_abstract']]\n",
    "set_vf_df['fr_preds'] = [extract_keywords(x, keyword_detector) for x in set_vf_df['fr_title_abstract']]"
   ]
  },
  {
   "cell_type": "code",
   "execution_count": 7,
   "id": "589beca1-f67c-4cf9-8546-b3ac764cf41e",
   "metadata": {},
   "outputs": [
    {
     "name": "stdout",
     "output_type": "stream",
     "text": [
      "3051 , 1361 , 154 , 5.05 , 11.32 , 6.98\n",
      "3051 , 595 , 117 , 3.83 , 19.66 , 6.41\n"
     ]
    },
    {
     "data": {
      "text/plain": [
       "(3051, 595, 117, 3.83, 19.66, 6.41)"
      ]
     },
     "execution_count": 7,
     "metadata": {},
     "output_type": "execute_result"
    }
   ],
   "source": [
    "eat_en = []\n",
    "for li in eat_vf_df['en_preds']:\n",
    "    eat_en.extend(li)\n",
    "eat_en = [x.strip().lower() for x in eat_en]  \n",
    "computeTermEvalMetrics(eat_en, gold_standard_eat_en)\n",
    "computeTermEvalMetrics(eat_en, gold_standard_eat_en_)"
   ]
  },
  {
   "cell_type": "code",
   "execution_count": 8,
   "id": "54b8883e-c2c7-4f22-9dde-bcb31764c1e7",
   "metadata": {},
   "outputs": [
    {
     "name": "stdout",
     "output_type": "stream",
     "text": [
      "2935 , 1339 , 146 , 4.97 , 10.9 , 6.83\n",
      "2935 , 565 , 119 , 4.05 , 21.06 , 6.79\n"
     ]
    },
    {
     "data": {
      "text/plain": [
       "(2935, 565, 119, 4.05, 21.06, 6.79)"
      ]
     },
     "execution_count": 8,
     "metadata": {},
     "output_type": "execute_result"
    }
   ],
   "source": [
    "eat_fr = []\n",
    "for li in eat_vf_df['fr_preds']:\n",
    "    eat_fr.extend(li)\n",
    "eat_fr = [x.strip().lower() for x in eat_fr]  \n",
    "computeTermEvalMetrics(eat_fr, gold_standard_eat_fr)\n",
    "computeTermEvalMetrics(eat_fr, gold_standard_eat_fr_)"
   ]
  },
  {
   "cell_type": "code",
   "execution_count": 9,
   "id": "47e1f2e1-c7c2-4d8a-90b8-3e0c79b1a07f",
   "metadata": {},
   "outputs": [
    {
     "name": "stdout",
     "output_type": "stream",
     "text": [
      "1258 , 650 , 68 , 5.41 , 10.46 , 7.13\n",
      "1258 , 314 , 57 , 4.53 , 18.15 , 7.25\n"
     ]
    },
    {
     "data": {
      "text/plain": [
       "(1258, 314, 57, 4.53, 18.15, 7.25)"
      ]
     },
     "execution_count": 9,
     "metadata": {},
     "output_type": "execute_result"
    }
   ],
   "source": [
    "set_en = []\n",
    "for li in set_vf_df['en_preds']:\n",
    "    set_en.extend(li)\n",
    "set_en = [x.strip().lower() for x in set_en]  \n",
    "computeTermEvalMetrics(set_en, gold_standard_set_en)\n",
    "computeTermEvalMetrics(set_en, gold_standard_set_en_)"
   ]
  },
  {
   "cell_type": "code",
   "execution_count": 10,
   "id": "61501054-0188-4816-afec-c38741430774",
   "metadata": {},
   "outputs": [
    {
     "name": "stdout",
     "output_type": "stream",
     "text": [
      "1259 , 638 , 56 , 4.45 , 8.78 , 5.91\n",
      "1259 , 277 , 51 , 4.05 , 18.41 , 6.64\n"
     ]
    },
    {
     "data": {
      "text/plain": [
       "(1259, 277, 51, 4.05, 18.41, 6.64)"
      ]
     },
     "execution_count": 10,
     "metadata": {},
     "output_type": "execute_result"
    }
   ],
   "source": [
    "set_fr = []\n",
    "for li in set_vf_df['fr_preds']:\n",
    "    set_fr.extend(li)\n",
    "set_fr = [x.strip().lower() for x in set_fr]  \n",
    "computeTermEvalMetrics(set_fr, gold_standard_set_fr)\n",
    "computeTermEvalMetrics(set_fr, gold_standard_set_fr_)"
   ]
  },
  {
   "cell_type": "code",
   "execution_count": null,
   "id": "d48be5e9-edf6-4a2a-a42f-a997acc1a919",
   "metadata": {},
   "outputs": [],
   "source": []
  }
 ],
 "metadata": {
  "kernelspec": {
   "display_name": "Python 3 (ipykernel)",
   "language": "python",
   "name": "python3"
  },
  "language_info": {
   "codemirror_mode": {
    "name": "ipython",
    "version": 3
   },
   "file_extension": ".py",
   "mimetype": "text/x-python",
   "name": "python",
   "nbconvert_exporter": "python",
   "pygments_lexer": "ipython3",
   "version": "3.9.12"
  }
 },
 "nbformat": 4,
 "nbformat_minor": 5
}
