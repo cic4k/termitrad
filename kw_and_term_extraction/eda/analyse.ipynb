{
 "cells": [
  {
   "cell_type": "markdown",
   "id": "2fac60da-dbb8-4f4a-9338-05d3390da392",
   "metadata": {},
   "source": [
    "# Sanity check"
   ]
  },
  {
   "cell_type": "code",
   "execution_count": 1,
   "id": "148dc3c6-6d95-4a49-b35e-983fb83941b5",
   "metadata": {},
   "outputs": [],
   "source": [
    "import pandas as pd\n",
    "import numpy as np\n",
    "import matplotlib.pyplot as plt\n",
    "import seaborn as sns"
   ]
  },
  {
   "cell_type": "code",
   "execution_count": 2,
   "id": "8452d41c-b7f3-45fa-81b6-22a3306679bb",
   "metadata": {},
   "outputs": [],
   "source": [
    "eat_vf_df = pd.read_excel('./sample_data/ingénieriesEAT-VF-2021030.xlsx').rename(columns={'Gestion et traitement des déjections animales en Italie = ':'fr_title_s'})\n",
    "set_vf_df = pd.read_excel('./sample_data/SET-VF20210211.xlsx')"
   ]
  },
  {
   "cell_type": "code",
   "execution_count": 8,
   "id": "be4bc502-1d83-4f39-900b-9e2977aa8c45",
   "metadata": {},
   "outputs": [
    {
     "name": "stdout",
     "output_type": "stream",
     "text": [
      "<class 'pandas.core.frame.DataFrame'>\n",
      "RangeIndex: 696 entries, 0 to 695\n",
      "Data columns (total 16 columns):\n",
      " #   Column             Non-Null Count  Dtype \n",
      "---  ------             --------------  ----- \n",
      " 0   docType_s          696 non-null    object\n",
      " 1   halId_s            696 non-null    object\n",
      " 2   fr_title_s         696 non-null    object\n",
      " 3   en_title_s         696 non-null    object\n",
      " 4   fr_abstract_s      696 non-null    object\n",
      " 5   en_abstract_s4     696 non-null    object\n",
      " 6   fr_keyword_s       696 non-null    object\n",
      " 7   en_keyword_s       696 non-null    object\n",
      " 8   producedDate_s     696 non-null    object\n",
      " 9   volume_s           9 non-null      object\n",
      " 10  issue_s            688 non-null    object\n",
      " 11  uri_s              696 non-null    object\n",
      " 12  en_keyword_count   696 non-null    int64 \n",
      " 13  fr_keyword_count   696 non-null    int64 \n",
      " 14  en_title_abstract  696 non-null    object\n",
      " 15  fr_title_abstract  696 non-null    object\n",
      "dtypes: int64(2), object(14)\n",
      "memory usage: 87.1+ KB\n"
     ]
    },
    {
     "data": {
      "text/html": [
       "<div>\n",
       "<style scoped>\n",
       "    .dataframe tbody tr th:only-of-type {\n",
       "        vertical-align: middle;\n",
       "    }\n",
       "\n",
       "    .dataframe tbody tr th {\n",
       "        vertical-align: top;\n",
       "    }\n",
       "\n",
       "    .dataframe thead th {\n",
       "        text-align: right;\n",
       "    }\n",
       "</style>\n",
       "<table border=\"1\" class=\"dataframe\">\n",
       "  <thead>\n",
       "    <tr style=\"text-align: right;\">\n",
       "      <th></th>\n",
       "      <th>docType_s</th>\n",
       "      <th>halId_s</th>\n",
       "      <th>fr_title_s</th>\n",
       "      <th>en_title_s</th>\n",
       "      <th>fr_abstract_s</th>\n",
       "      <th>en_abstract_s4</th>\n",
       "      <th>fr_keyword_s</th>\n",
       "      <th>en_keyword_s</th>\n",
       "      <th>producedDate_s</th>\n",
       "      <th>volume_s</th>\n",
       "      <th>issue_s</th>\n",
       "      <th>uri_s</th>\n",
       "      <th>en_keyword_count</th>\n",
       "      <th>fr_keyword_count</th>\n",
       "      <th>en_title_abstract</th>\n",
       "      <th>fr_title_abstract</th>\n",
       "    </tr>\n",
       "  </thead>\n",
       "  <tbody>\n",
       "    <tr>\n",
       "      <th>0</th>\n",
       "      <td>ART</td>\n",
       "      <td>hal-02582981</td>\n",
       "      <td>Aménagement du Rhône et débit réservé</td>\n",
       "      <td>Development of the Rhône and reserved flow</td>\n",
       "      <td>Les opérations d'augmentation de débits réserv...</td>\n",
       "      <td>Operations to increase the reserve flows and t...</td>\n",
       "      <td>Aménagement de cours d'eau, débit réservé, éne...</td>\n",
       "      <td>River management, instream flow, hydroelectric...</td>\n",
       "      <td>2004.0</td>\n",
       "      <td>NaN</td>\n",
       "      <td>38 supplément</td>\n",
       "      <td>https://hal.inrae.fr/hal-02582981</td>\n",
       "      <td>3</td>\n",
       "      <td>3</td>\n",
       "      <td>Development of the Rhône and reserved flowOper...</td>\n",
       "      <td>Aménagement du Rhône et débit réservéLes opéra...</td>\n",
       "    </tr>\n",
       "    <tr>\n",
       "      <th>1</th>\n",
       "      <td>ART</td>\n",
       "      <td>hal-02580960</td>\n",
       "      <td>Aménité : qualité des relations sociales, qual...</td>\n",
       "      <td>Amenity: quality in the social relationships, ...</td>\n",
       "      <td>Dans un contexte où le mot \"aménités\" circule ...</td>\n",
       "      <td>In a context where the word 'amenities' is use...</td>\n",
       "      <td>Aménité, sciences humaines et sociales, dévelo...</td>\n",
       "      <td>Amenity, human and social sciences, rural deve...</td>\n",
       "      <td>2002.0</td>\n",
       "      <td>NaN</td>\n",
       "      <td>spécial Aménités rurales : une nouvelle lectur...</td>\n",
       "      <td>https://hal.inrae.fr/hal-02580960</td>\n",
       "      <td>3</td>\n",
       "      <td>3</td>\n",
       "      <td>Amenity: quality in the social relationships, ...</td>\n",
       "      <td>Aménité : qualité des relations sociales, qual...</td>\n",
       "    </tr>\n",
       "    <tr>\n",
       "      <th>2</th>\n",
       "      <td>ART</td>\n",
       "      <td>hal-02580702</td>\n",
       "      <td>Aménités, fonctions non marchandes et aménagem...</td>\n",
       "      <td>Amenities, non-market functions and forest man...</td>\n",
       "      <td>La prise en compte des fonctions non marchande...</td>\n",
       "      <td>Taking into account non-market functions in fo...</td>\n",
       "      <td>Multifonctionnalité de la forêt, valeur non ma...</td>\n",
       "      <td>Forest multifunctionality, non-market value, a...</td>\n",
       "      <td>2002.0</td>\n",
       "      <td>NaN</td>\n",
       "      <td>spécial Aménagement forestier</td>\n",
       "      <td>https://hal.inrae.fr/hal-02580702</td>\n",
       "      <td>4</td>\n",
       "      <td>4</td>\n",
       "      <td>Amenities, non-market functions and forest man...</td>\n",
       "      <td>Aménités, fonctions non marchandes et aménagem...</td>\n",
       "    </tr>\n",
       "    <tr>\n",
       "      <th>3</th>\n",
       "      <td>ART</td>\n",
       "      <td>hal-02590810</td>\n",
       "      <td>Analyse multi-compartiments et rôles fonctionn...</td>\n",
       "      <td>Relationships with other abiotic and biotic ec...</td>\n",
       "      <td>Les macrophytes sont mis en relation avec les ...</td>\n",
       "      <td>Macrophytes are studied regarding other compar...</td>\n",
       "      <td>Macrophyte, écologie, rapport trophique, écosy...</td>\n",
       "      <td>Macrophyte, ecology, trophic relationship, aqu...</td>\n",
       "      <td>2008.0</td>\n",
       "      <td>NaN</td>\n",
       "      <td>spécial Plantes aquatiques d'eau douce : biolo...</td>\n",
       "      <td>https://hal.inrae.fr/hal-02590810</td>\n",
       "      <td>6</td>\n",
       "      <td>6</td>\n",
       "      <td>Relationships with other abiotic and biotic ec...</td>\n",
       "      <td>Analyse multi-compartiments et rôles fonctionn...</td>\n",
       "    </tr>\n",
       "  </tbody>\n",
       "</table>\n",
       "</div>"
      ],
      "text/plain": [
       "  docType_s       halId_s                                         fr_title_s  \\\n",
       "0       ART  hal-02582981              Aménagement du Rhône et débit réservé   \n",
       "1       ART  hal-02580960  Aménité : qualité des relations sociales, qual...   \n",
       "2       ART  hal-02580702  Aménités, fonctions non marchandes et aménagem...   \n",
       "3       ART  hal-02590810  Analyse multi-compartiments et rôles fonctionn...   \n",
       "\n",
       "                                          en_title_s  \\\n",
       "0         Development of the Rhône and reserved flow   \n",
       "1  Amenity: quality in the social relationships, ...   \n",
       "2  Amenities, non-market functions and forest man...   \n",
       "3  Relationships with other abiotic and biotic ec...   \n",
       "\n",
       "                                       fr_abstract_s  \\\n",
       "0  Les opérations d'augmentation de débits réserv...   \n",
       "1  Dans un contexte où le mot \"aménités\" circule ...   \n",
       "2  La prise en compte des fonctions non marchande...   \n",
       "3  Les macrophytes sont mis en relation avec les ...   \n",
       "\n",
       "                                      en_abstract_s4  \\\n",
       "0  Operations to increase the reserve flows and t...   \n",
       "1  In a context where the word 'amenities' is use...   \n",
       "2  Taking into account non-market functions in fo...   \n",
       "3  Macrophytes are studied regarding other compar...   \n",
       "\n",
       "                                        fr_keyword_s  \\\n",
       "0  Aménagement de cours d'eau, débit réservé, éne...   \n",
       "1  Aménité, sciences humaines et sociales, dévelo...   \n",
       "2  Multifonctionnalité de la forêt, valeur non ma...   \n",
       "3  Macrophyte, écologie, rapport trophique, écosy...   \n",
       "\n",
       "                                        en_keyword_s producedDate_s volume_s  \\\n",
       "0  River management, instream flow, hydroelectric...         2004.0      NaN   \n",
       "1  Amenity, human and social sciences, rural deve...         2002.0      NaN   \n",
       "2  Forest multifunctionality, non-market value, a...         2002.0      NaN   \n",
       "3  Macrophyte, ecology, trophic relationship, aqu...         2008.0      NaN   \n",
       "\n",
       "                                             issue_s  \\\n",
       "0                                      38 supplément   \n",
       "1  spécial Aménités rurales : une nouvelle lectur...   \n",
       "2                      spécial Aménagement forestier   \n",
       "3  spécial Plantes aquatiques d'eau douce : biolo...   \n",
       "\n",
       "                               uri_s  en_keyword_count  fr_keyword_count  \\\n",
       "0  https://hal.inrae.fr/hal-02582981                 3                 3   \n",
       "1  https://hal.inrae.fr/hal-02580960                 3                 3   \n",
       "2  https://hal.inrae.fr/hal-02580702                 4                 4   \n",
       "3  https://hal.inrae.fr/hal-02590810                 6                 6   \n",
       "\n",
       "                                   en_title_abstract  \\\n",
       "0  Development of the Rhône and reserved flowOper...   \n",
       "1  Amenity: quality in the social relationships, ...   \n",
       "2  Amenities, non-market functions and forest man...   \n",
       "3  Relationships with other abiotic and biotic ec...   \n",
       "\n",
       "                                   fr_title_abstract  \n",
       "0  Aménagement du Rhône et débit réservéLes opéra...  \n",
       "1  Aménité : qualité des relations sociales, qual...  \n",
       "2  Aménités, fonctions non marchandes et aménagem...  \n",
       "3  Analyse multi-compartiments et rôles fonctionn...  "
      ]
     },
     "execution_count": 8,
     "metadata": {},
     "output_type": "execute_result"
    }
   ],
   "source": [
    "eat_vf_df.info()\n",
    "eat_vf_df.head(4)"
   ]
  },
  {
   "cell_type": "code",
   "execution_count": 9,
   "id": "80173f04-318a-4e00-a01f-a28c4134ef4f",
   "metadata": {},
   "outputs": [
    {
     "name": "stdout",
     "output_type": "stream",
     "text": [
      "<class 'pandas.core.frame.DataFrame'>\n",
      "RangeIndex: 287 entries, 0 to 286\n",
      "Data columns (total 10 columns):\n",
      " #   Column             Non-Null Count  Dtype \n",
      "---  ------             --------------  ----- \n",
      " 0   Titre FR           287 non-null    object\n",
      " 1   Titre GB           287 non-null    object\n",
      " 2   RésuméFR           287 non-null    object\n",
      " 3   Résumé GB          287 non-null    object\n",
      " 4   Mots-clés FR       287 non-null    object\n",
      " 5   Mots clés GB       287 non-null    object\n",
      " 6   en_keyword_count   287 non-null    int64 \n",
      " 7   fr_keyword_count   287 non-null    int64 \n",
      " 8   en_title_abstract  287 non-null    object\n",
      " 9   fr_title_abstract  287 non-null    object\n",
      "dtypes: int64(2), object(8)\n",
      "memory usage: 22.5+ KB\n"
     ]
    },
    {
     "data": {
      "text/html": [
       "<div>\n",
       "<style scoped>\n",
       "    .dataframe tbody tr th:only-of-type {\n",
       "        vertical-align: middle;\n",
       "    }\n",
       "\n",
       "    .dataframe tbody tr th {\n",
       "        vertical-align: top;\n",
       "    }\n",
       "\n",
       "    .dataframe thead th {\n",
       "        text-align: right;\n",
       "    }\n",
       "</style>\n",
       "<table border=\"1\" class=\"dataframe\">\n",
       "  <thead>\n",
       "    <tr style=\"text-align: right;\">\n",
       "      <th></th>\n",
       "      <th>Titre FR</th>\n",
       "      <th>Titre GB</th>\n",
       "      <th>RésuméFR</th>\n",
       "      <th>Résumé GB</th>\n",
       "      <th>Mots-clés FR</th>\n",
       "      <th>Mots clés GB</th>\n",
       "      <th>en_keyword_count</th>\n",
       "      <th>fr_keyword_count</th>\n",
       "      <th>en_title_abstract</th>\n",
       "      <th>fr_title_abstract</th>\n",
       "    </tr>\n",
       "  </thead>\n",
       "  <tbody>\n",
       "    <tr>\n",
       "      <th>0</th>\n",
       "      <td>Une approche innovante de modélisation du risq...</td>\n",
       "      <td>An innovative approach to modelling forest fir...</td>\n",
       "      <td>Une méthode de cartographie des interfaces hab...</td>\n",
       "      <td>A method to characterize and to map wildland-u...</td>\n",
       "      <td>Interface habitat-forêt, risque d’incendie, dé...</td>\n",
       "      <td>Wildland-urban interface, fire risk, fire star...</td>\n",
       "      <td>6</td>\n",
       "      <td>6</td>\n",
       "      <td>An innovative approach to modelling forest fir...</td>\n",
       "      <td>Une approche innovante de modélisation du risq...</td>\n",
       "    </tr>\n",
       "    <tr>\n",
       "      <th>1</th>\n",
       "      <td>Mise en œuvre de deux mesures agrienvironnemen...</td>\n",
       "      <td>Implementation of two result-based agrienviron...</td>\n",
       "      <td>Afin de répondre aux exigences de la société e...</td>\n",
       "      <td>In order to meet society's demands for a more ...</td>\n",
       "      <td>Mesure agroenvironnementale, prairie fleurie, ...</td>\n",
       "      <td>Agrienvironmental measure, flowering meadow, p...</td>\n",
       "      <td>5</td>\n",
       "      <td>5</td>\n",
       "      <td>Implementation of two result-based agrienviron...</td>\n",
       "      <td>Mise en œuvre de deux mesures agrienvironnemen...</td>\n",
       "    </tr>\n",
       "    <tr>\n",
       "      <th>2</th>\n",
       "      <td>Les enjeux de l’équivalence écologique pour la...</td>\n",
       "      <td>The issue of ecological equivalence in designi...</td>\n",
       "      <td>L’évolution du contexte réglementaire a renfor...</td>\n",
       "      <td>Changes in the regulatory context have reinfor...</td>\n",
       "      <td>Compensation écologique, impact sur la biodive...</td>\n",
       "      <td>Ecological compensation, impact on biodiversit...</td>\n",
       "      <td>4</td>\n",
       "      <td>4</td>\n",
       "      <td>The issue of ecological equivalence in designi...</td>\n",
       "      <td>Les enjeux de l’équivalence écologique pour la...</td>\n",
       "    </tr>\n",
       "    <tr>\n",
       "      <th>3</th>\n",
       "      <td>Interprétation des données de surveillance de ...</td>\n",
       "      <td>Interpretation of monitoring data on pesticide...</td>\n",
       "      <td>L’étude de l’état de la contamination des eaux...</td>\n",
       "      <td>The study of the state of surface water contam...</td>\n",
       "      <td>Herbicide, pollution agricole, eau superficiel...</td>\n",
       "      <td>Herbicide, agricultural pollution, surface wat...</td>\n",
       "      <td>6</td>\n",
       "      <td>6</td>\n",
       "      <td>Interpretation of monitoring data on pesticide...</td>\n",
       "      <td>Interprétation des données de surveillance de ...</td>\n",
       "    </tr>\n",
       "  </tbody>\n",
       "</table>\n",
       "</div>"
      ],
      "text/plain": [
       "                                            Titre FR  \\\n",
       "0  Une approche innovante de modélisation du risq...   \n",
       "1  Mise en œuvre de deux mesures agrienvironnemen...   \n",
       "2  Les enjeux de l’équivalence écologique pour la...   \n",
       "3  Interprétation des données de surveillance de ...   \n",
       "\n",
       "                                            Titre GB  \\\n",
       "0  An innovative approach to modelling forest fir...   \n",
       "1  Implementation of two result-based agrienviron...   \n",
       "2  The issue of ecological equivalence in designi...   \n",
       "3  Interpretation of monitoring data on pesticide...   \n",
       "\n",
       "                                            RésuméFR  \\\n",
       "0  Une méthode de cartographie des interfaces hab...   \n",
       "1  Afin de répondre aux exigences de la société e...   \n",
       "2  L’évolution du contexte réglementaire a renfor...   \n",
       "3  L’étude de l’état de la contamination des eaux...   \n",
       "\n",
       "                                           Résumé GB  \\\n",
       "0  A method to characterize and to map wildland-u...   \n",
       "1  In order to meet society's demands for a more ...   \n",
       "2  Changes in the regulatory context have reinfor...   \n",
       "3  The study of the state of surface water contam...   \n",
       "\n",
       "                                        Mots-clés FR  \\\n",
       "0  Interface habitat-forêt, risque d’incendie, dé...   \n",
       "1  Mesure agroenvironnementale, prairie fleurie, ...   \n",
       "2  Compensation écologique, impact sur la biodive...   \n",
       "3  Herbicide, pollution agricole, eau superficiel...   \n",
       "\n",
       "                                        Mots clés GB  en_keyword_count  \\\n",
       "0  Wildland-urban interface, fire risk, fire star...                 6   \n",
       "1  Agrienvironmental measure, flowering meadow, p...                 5   \n",
       "2  Ecological compensation, impact on biodiversit...                 4   \n",
       "3  Herbicide, agricultural pollution, surface wat...                 6   \n",
       "\n",
       "   fr_keyword_count                                  en_title_abstract  \\\n",
       "0                 6  An innovative approach to modelling forest fir...   \n",
       "1                 5  Implementation of two result-based agrienviron...   \n",
       "2                 4  The issue of ecological equivalence in designi...   \n",
       "3                 6  Interpretation of monitoring data on pesticide...   \n",
       "\n",
       "                                   fr_title_abstract  \n",
       "0  Une approche innovante de modélisation du risq...  \n",
       "1  Mise en œuvre de deux mesures agrienvironnemen...  \n",
       "2  Les enjeux de l’équivalence écologique pour la...  \n",
       "3  Interprétation des données de surveillance de ...  "
      ]
     },
     "execution_count": 9,
     "metadata": {},
     "output_type": "execute_result"
    }
   ],
   "source": [
    "set_vf_df.info()\n",
    "set_vf_df.head(4)"
   ]
  },
  {
   "cell_type": "code",
   "execution_count": 5,
   "id": "b0de8a03-5d50-4cd0-ae15-fa11857f9c0f",
   "metadata": {},
   "outputs": [
    {
     "data": {
      "image/png": "[encoded data removed]",
      "text/plain": [
       "<Figure size 1080x360 with 2 Axes>"
      ]
     },
     "metadata": {
      "needs_background": "light"
     },
     "output_type": "display_data"
    }
   ],
   "source": [
    "def keyword_counts(df, col_en, col_fr):\n",
    "    df['en_keyword_count'] = [len(x.split(',')) for x in df[col_en]] \n",
    "    df['fr_keyword_count'] = [len(x.split(',')) for x in df[col_fr]] \n",
    "    return df\n",
    "eat_vf_df = keyword_counts(eat_vf_df, 'en_keyword_s', 'fr_keyword_s')\n",
    "set_vf_df = keyword_counts(set_vf_df, 'Mots clés GB', 'Mots-clés FR')\n",
    "\n",
    "plt.figure(figsize=(15,5))\n",
    "plt.subplot(1,2,1)\n",
    "sns.histplot(data=eat_vf_df, x=\"en_keyword_count\", palette=\"Set2\")\n",
    "plt.title('ingénieriesEAT-VF-2021030')\n",
    "plt.subplot(1,2,2)\n",
    "sns.histplot(data=set_vf_df, x=\"en_keyword_count\", palette=\"Set2\")\n",
    "plt.title('SET-VF20210211')\n",
    "plt.show()"
   ]
  },
  {
   "cell_type": "code",
   "execution_count": 6,
   "id": "1d774ce4-979c-4401-9966-639056fb0b5a",
   "metadata": {},
   "outputs": [],
   "source": [
    "eat_vf_df['en_title_abstract'] = eat_vf_df['en_title_s'] + eat_vf_df['en_abstract_s4']\n",
    "eat_vf_df['fr_title_abstract'] = eat_vf_df['fr_title_s'] + eat_vf_df['fr_abstract_s']\n",
    "\n",
    "set_vf_df['en_title_abstract'] = set_vf_df['Titre GB'] + set_vf_df['Résumé GB']\n",
    "set_vf_df['fr_title_abstract'] = set_vf_df['Titre FR'] + set_vf_df['RésuméFR']"
   ]
  },
  {
   "cell_type": "code",
   "execution_count": 7,
   "id": "2995e093-2b58-4121-98be-a00020bb5883",
   "metadata": {},
   "outputs": [
    {
     "data": {
      "image/png": "[encoded data removed]",
      "text/plain": [
       "<Figure size 1080x360 with 2 Axes>"
      ]
     },
     "metadata": {
      "needs_background": "light"
     },
     "output_type": "display_data"
    }
   ],
   "source": [
    "plt.figure(figsize=(15,5))\n",
    "plt.subplot(1,2,1)\n",
    "sns.boxplot(data = eat_vf_df[['en_keyword_count', 'fr_keyword_count']], palette=\"Set2\")\n",
    "plt.title('ingénieriesEAT-VF-2021030')\n",
    "plt.subplot(1,2,2)\n",
    "sns.boxplot(data = set_vf_df[['en_keyword_count', 'fr_keyword_count']], palette=\"Set2\")\n",
    "plt.title('SET-VF20210211')\n",
    "plt.show()"
   ]
  },
  {
   "cell_type": "code",
   "execution_count": 8,
   "id": "a4f73eea-1ebf-4cdd-aacf-90dfdc982d4c",
   "metadata": {},
   "outputs": [],
   "source": [
    "def missing_count(df, keywords, corpus):\n",
    "    missing = [x.strip() for y, z in zip(df[keywords], df[corpus]) for x in y.split(',') if x.strip().lower() not in z.lower()]\n",
    "    total = sum([len(x.split(',')) for x in df[keywords]])\n",
    "    print('Number of  keywords: ', total)\n",
    "    print('Number of missing keywords: ', len(missing))\n",
    "    print(round(len(missing)*100/total,2))\n",
    "    return missing"
   ]
  },
  {
   "cell_type": "code",
   "execution_count": 9,
   "id": "8eff5d6b-950c-4992-ab2b-d49e047ddeaf",
   "metadata": {},
   "outputs": [
    {
     "name": "stdout",
     "output_type": "stream",
     "text": [
      "Number of  keywords:  3372\n",
      "Number of missing keywords:  2078\n",
      "61.63\n"
     ]
    }
   ],
   "source": [
    "en_eat_missing = missing_count(eat_vf_df, 'en_keyword_s', 'en_title_abstract')"
   ]
  },
  {
   "cell_type": "code",
   "execution_count": 10,
   "id": "9c51b566-456a-4ed3-a5f7-97b4ea515d06",
   "metadata": {},
   "outputs": [
    {
     "name": "stdout",
     "output_type": "stream",
     "text": [
      "Number of  keywords:  3384\n",
      "Number of missing keywords:  2027\n",
      "59.9\n"
     ]
    }
   ],
   "source": [
    "en_eat_missing = missing_count(eat_vf_df, 'fr_keyword_s', 'fr_title_abstract')"
   ]
  },
  {
   "cell_type": "code",
   "execution_count": 11,
   "id": "f8a6bc44-36a1-49e2-91dc-173c8b336f3c",
   "metadata": {},
   "outputs": [
    {
     "name": "stdout",
     "output_type": "stream",
     "text": [
      "Number of  keywords:  1402\n",
      "Number of missing keywords:  806\n",
      "57.49\n"
     ]
    }
   ],
   "source": [
    "en_set_missing = missing_count(set_vf_df, 'Mots clés GB', 'en_title_abstract')"
   ]
  },
  {
   "cell_type": "code",
   "execution_count": 12,
   "id": "1131098a-da24-43c2-a0be-69d2544623b1",
   "metadata": {},
   "outputs": [
    {
     "name": "stdout",
     "output_type": "stream",
     "text": [
      "Number of  keywords:  1404\n",
      "Number of missing keywords:  899\n",
      "64.03\n"
     ]
    }
   ],
   "source": [
    "en_set_missing = missing_count(set_vf_df, 'Mots-clés FR', 'fr_title_abstract')"
   ]
  },
  {
   "cell_type": "code",
   "execution_count": 13,
   "id": "04a2fb72-2fa6-4b38-bf5f-06e17219d9ce",
   "metadata": {},
   "outputs": [
    {
     "data": {
      "image/png": "[encoded data removed]",
      "text/plain": [
       "<Figure size 1080x1080 with 2 Axes>"
      ]
     },
     "metadata": {},
     "output_type": "display_data"
    }
   ],
   "source": [
    "plt.figure(figsize=(15,15))\n",
    "colors = sns.color_palette('pastel')[0:2] \n",
    "plt.subplot(1,2,1)\n",
    "data = [3372 - 2078, 2078]\n",
    "labels = ['Coverage', 'Missing']\n",
    "plt.pie(data, labels = labels,  autopct='%.0f%%', colors=colors, explode=[0,0.01])\n",
    "plt.title('English')\n",
    "plt.subplot(1,2,2)\n",
    "data = [3384 - 2027, 2027]\n",
    "labels = ['Coverage', 'Missing']\n",
    "plt.pie(data, labels = labels,  autopct='%.0f%%', colors=colors, explode=[0,0.01])\n",
    "plt.title('French')\n",
    "plt.show()"
   ]
  },
  {
   "cell_type": "code",
   "execution_count": 14,
   "id": "ac638e8c-26d1-4699-848b-d559b1584c17",
   "metadata": {},
   "outputs": [
    {
     "data": {
      "image/png": "[encoded data removed]",
      "text/plain": [
       "<Figure size 1080x1080 with 2 Axes>"
      ]
     },
     "metadata": {},
     "output_type": "display_data"
    }
   ],
   "source": [
    "plt.figure(figsize=(15,15))\n",
    "plt.subplot(1,2,1)\n",
    "data = [1402 - 806, 806]\n",
    "labels = ['Coverage', 'Missing']\n",
    "plt.pie(data, labels = labels, autopct='%.0f%%', colors=colors, explode=[0,0.01])\n",
    "plt.title('English')\n",
    "\n",
    "plt.subplot(1,2,2)\n",
    "data = [1404 - 899, 899]\n",
    "labels = ['Coverage', 'Missing']\n",
    "plt.pie(data, labels = labels, autopct='%.0f%%', colors=colors, explode=[0,0.01])\n",
    "plt.title('French')\n",
    "plt.show()"
   ]
  },
  {
   "cell_type": "code",
   "execution_count": 15,
   "id": "beb09efe-594b-4eff-98a2-625db91d3a14",
   "metadata": {},
   "outputs": [],
   "source": [
    "def missing_per_doc(df, keywords, corpus, missing_keywords, missing_counts):\n",
    "    df[missing_keywords] = pd.Series(dtype='int')\n",
    "    df[missing_counts] = pd.Series(dtype='int')\n",
    "    for i in range(len(df)):\n",
    "        df[missing_keywords].iloc[i] = [x for x in df[keywords].iloc[i].split(',') \n",
    "                                        if x.strip().lower() not in df[corpus].iloc[i].lower()]\n",
    "        df[missing_counts].iloc[i] = len(df[missing_keywords].iloc[i])\n",
    "    return df\n",
    "    "
   ]
  },
  {
   "cell_type": "code",
   "execution_count": 16,
   "id": "0cff7b01-477d-4c21-a9c8-39740a6bc77f",
   "metadata": {},
   "outputs": [
    {
     "name": "stderr",
     "output_type": "stream",
     "text": [
      "/home/tranthh/anaconda3/envs/term_torch18/lib/python3.7/site-packages/pandas/core/indexing.py:1732: SettingWithCopyWarning: \n",
      "A value is trying to be set on a copy of a slice from a DataFrame\n",
      "\n",
      "See the caveats in the documentation: https://pandas.pydata.org/pandas-docs/stable/user_guide/indexing.html#returning-a-view-versus-a-copy\n",
      "  self._setitem_single_block(indexer, value, name)\n"
     ]
    }
   ],
   "source": [
    "eat_vf_df = missing_per_doc(eat_vf_df, 'en_keyword_s','en_title_abstract','en_missing_keywords','en_missing_counts')\n",
    "eat_vf_df = missing_per_doc(eat_vf_df, 'fr_keyword_s','fr_title_abstract','fr_missing_keywords','fr_missing_counts')\n",
    "set_vf_df = missing_per_doc(set_vf_df, 'Mots clés GB','en_title_abstract','en_missing_keywords','en_missing_counts')\n",
    "set_vf_df = missing_per_doc(set_vf_df, 'Mots-clés FR','fr_title_abstract','fr_missing_keywords','fr_missing_counts')"
   ]
  },
  {
   "cell_type": "code",
   "execution_count": 17,
   "id": "03895666-cad0-4220-be27-126e9b6adf53",
   "metadata": {},
   "outputs": [
    {
     "data": {
      "image/png": "[encoded data removed]",
      "text/plain": [
       "<Figure size 1080x360 with 2 Axes>"
      ]
     },
     "metadata": {
      "needs_background": "light"
     },
     "output_type": "display_data"
    }
   ],
   "source": [
    "plt.figure(figsize=(15,5))\n",
    "plt.subplot(1,2,1)\n",
    "sns.boxplot(data = eat_vf_df[['en_missing_counts', 'fr_missing_counts']], palette=\"Set2\")\n",
    "plt.title('ingénieriesEAT-VF-2021030')\n",
    "plt.subplot(1,2,2)\n",
    "sns.boxplot(data = set_vf_df[['en_missing_counts', 'fr_missing_counts']], palette=\"Set2\")\n",
    "plt.title('SET-VF20210211')\n",
    "plt.show()"
   ]
  },
  {
   "cell_type": "code",
   "execution_count": 18,
   "id": "696304a0-1b26-41db-b950-052913f96f19",
   "metadata": {},
   "outputs": [],
   "source": [
    "def histplot(df, title_col, title_name, abstract_col, abstract_name):\n",
    "    plt.figure(figsize=(15,5))\n",
    "    plt.subplot(1,2,1)\n",
    "    sns.histplot([len(x.split()) for x in df[title_col]])\n",
    "    plt.title(title_name)\n",
    "    plt.subplot(1,2,2)\n",
    "    sns.histplot([len(x.split()) for x in df[abstract_col]])\n",
    "    plt.title(abstract_name)\n",
    "    plt.show()"
   ]
  },
  {
   "cell_type": "code",
   "execution_count": 19,
   "id": "04685ced-3b97-45c0-974f-fa691235e710",
   "metadata": {},
   "outputs": [
    {
     "data": {
      "image/png": "[encoded data removed]",
      "text/plain": [
       "<Figure size 1080x360 with 2 Axes>"
      ]
     },
     "metadata": {
      "needs_background": "light"
     },
     "output_type": "display_data"
    }
   ],
   "source": [
    "histplot(eat_vf_df, 'en_title_s', 'English title', 'en_abstract_s4', 'English abstract')"
   ]
  },
  {
   "cell_type": "code",
   "execution_count": 20,
   "id": "01eb2308-709c-4d6f-a79b-ee4bdf54d28c",
   "metadata": {},
   "outputs": [
    {
     "data": {
      "image/png": "[encoded data removed]",
      "text/plain": [
       "<Figure size 1080x360 with 2 Axes>"
      ]
     },
     "metadata": {
      "needs_background": "light"
     },
     "output_type": "display_data"
    }
   ],
   "source": [
    "histplot(eat_vf_df,'fr_title_s', \n",
    "         'French title', 'fr_abstract_s', 'French abstract')"
   ]
  },
  {
   "cell_type": "code",
   "execution_count": 21,
   "id": "e40fc08d-b964-475b-85b1-f844d4bbef97",
   "metadata": {},
   "outputs": [
    {
     "data": {
      "image/png": "[encoded data removed]",
      "text/plain": [
       "<Figure size 1080x360 with 2 Axes>"
      ]
     },
     "metadata": {
      "needs_background": "light"
     },
     "output_type": "display_data"
    }
   ],
   "source": [
    "histplot(set_vf_df,'Titre GB', 'English title', 'Résumé GB', 'English abstract')"
   ]
  },
  {
   "cell_type": "code",
   "execution_count": 22,
   "id": "d6b11cbf-d3c4-470a-a6d0-51f329e450fa",
   "metadata": {},
   "outputs": [
    {
     "data": {
      "image/png": "[encoded data removed]",
      "text/plain": [
       "<Figure size 1080x360 with 2 Axes>"
      ]
     },
     "metadata": {
      "needs_background": "light"
     },
     "output_type": "display_data"
    }
   ],
   "source": [
    "histplot(set_vf_df,'Titre FR', 'French title', 'RésuméFR', 'French abstract')"
   ]
  },
  {
   "cell_type": "code",
   "execution_count": 25,
   "id": "d599bb5c-1534-4e43-b223-7a5e6cdd2948",
   "metadata": {},
   "outputs": [
    {
     "data": {
      "text/plain": [
       "'Development of the Rhône and reserved flow'"
      ]
     },
     "execution_count": 25,
     "metadata": {},
     "output_type": "execute_result"
    }
   ],
   "source": [
    "eat_vf_df.en_title_s.iloc[0]"
   ]
  },
  {
   "cell_type": "code",
   "execution_count": 29,
   "id": "93f81638-a2b7-4c0d-8698-7cd3bc269436",
   "metadata": {},
   "outputs": [
    {
     "data": {
      "text/plain": [
       "'Operations to increase the reserve flows and to restore the by-passed sections of the RHONE River have considerable ecological aims that can however, lead to a loss of renewable energy sources if the economic conditions for building small hydropower plants to harness the additional reserve flows are not satisfied. The only means of economically justifying investments to exploit the energy of additional reserve flows, and thus implement a complete approach consistent with the Kyoto objectives, is to apply adapted prices that take into account, for example, the cost of renewable energy and to call on local external funds (Refer to PIERRE BENITE development); however, these are difficult to raise.'"
      ]
     },
     "execution_count": 29,
     "metadata": {},
     "output_type": "execute_result"
    }
   ],
   "source": [
    "eat_vf_df.en_abstract_s4.iloc[0]"
   ]
  },
  {
   "cell_type": "code",
   "execution_count": 31,
   "id": "4b21db54-1acb-4fbb-9df0-abd13423ba74",
   "metadata": {},
   "outputs": [
    {
     "data": {
      "text/plain": [
       "'River management, instream flow, hydroelectric energy'"
      ]
     },
     "execution_count": 31,
     "metadata": {},
     "output_type": "execute_result"
    }
   ],
   "source": [
    "eat_vf_df.en_keyword_s.iloc[0]"
   ]
  },
  {
   "cell_type": "code",
   "execution_count": null,
   "id": "68d0be4a-3dc4-47d0-8ae8-3753781b2941",
   "metadata": {},
   "outputs": [],
   "source": []
  }
 ],
 "metadata": {
  "kernelspec": {
   "display_name": "Python 3.8.2 64-bit",
   "language": "python",
   "name": "python3"
  },
  "language_info": {
   "codemirror_mode": {
    "name": "ipython",
    "version": 3
   },
   "file_extension": ".py",
   "mimetype": "text/x-python",
   "name": "python",
   "nbconvert_exporter": "python",
   "pygments_lexer": "ipython3",
   "version": "3.8.2"
  },
  "vscode": {
   "interpreter": {
    "hash": "31f2aee4e71d21fbe5cf8b01ff0e069b9275f58929596ceb00d14d90e3e16cd6"
   }
  }
 },
 "nbformat": 4,
 "nbformat_minor": 5
}
