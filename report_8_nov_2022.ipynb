{
 "cells": [
  {
   "cell_type": "code",
   "execution_count": 1,
   "id": "daae1eba-ff9a-422f-96e6-b54120b35860",
   "metadata": {},
   "outputs": [],
   "source": [
    "import timeit\n",
    "import numpy as np\n",
    "import pandas as pd\n",
    "from transformers import TokenClassificationPipeline, AutoModelForTokenClassification,Text2TextGenerationPipeline, AutoModelForSeq2SeqLM, AutoTokenizer\n",
    "from transformers.pipelines import AggregationStrategy\n",
    "import warnings\n",
    "warnings.filterwarnings(\"ignore\")"
   ]
  },
  {
   "cell_type": "code",
   "execution_count": 2,
   "id": "c59ebf91-f683-435a-9787-e07daf3a40f3",
   "metadata": {},
   "outputs": [],
   "source": [
    "eat_df = pd.read_excel('./termirad_data/ingénieriesEAT-VF-2021030.xlsx').rename(columns={'Gestion et traitement des déjections animales en Italie = ':'fr_title_s'})\n",
    "set_df = pd.read_excel('./termirad_data/SET-VF20210211.xlsx')\n",
    "# eat_df.head(2), set_df.head(5)"
   ]
  },
  {
   "cell_type": "code",
   "execution_count": 3,
   "id": "01ed55af-91d5-46d1-b362-529141c6a2f3",
   "metadata": {},
   "outputs": [],
   "source": [
    "def preprocess(df, eat = True):\n",
    "    if eat == True:\n",
    "        df['en_texts'] = df['en_title_s']  + ' ' + df['en_abstract_s4']\n",
    "        df['fr_texts'] = df['fr_title_s']  + ' ' + df['fr_abstract_s']\n",
    "        return df[['uri_s', 'en_texts', 'fr_texts',\n",
    "                   'fr_keyword_s', 'en_keyword_s']].rename(columns={'fr_keyword_s':'fr_keywords',\n",
    "                                                                    'en_keyword_s':'en_keywords'})\n",
    "    else:\n",
    "        df['en_texts'] = df['Titre GB']  + ' ' + df['Résumé GB']\n",
    "        df['fr_texts'] = df['Titre FR']  + ' ' + df['RésuméFR']\n",
    "        return df[['en_texts', 'fr_texts',\n",
    "                   'Mots-clés FR', 'Mots clés GB']].rename(columns={'Mots-clés FR':'fr_keywords',\n",
    "                                                                    'Mots clés GB':'en_keywords'})\n",
    "    return df"
   ]
  },
  {
   "cell_type": "code",
   "execution_count": 4,
   "id": "18a15054-a7bb-4d79-8022-89cdeeacf5f8",
   "metadata": {},
   "outputs": [],
   "source": [
    "eat_data = preprocess(eat_df)\n",
    "set_data = preprocess(set_df, eat = False)"
   ]
  },
  {
   "cell_type": "markdown",
   "id": "fb38f6cf-53d8-44b1-9247-16905e115dde",
   "metadata": {},
   "source": [
    "## Report\n",
    "\n",
    "We consider our problem as token classification with B-I-O annotation like NER and evaluate the baseline of extracting keywords with Transformer-based language models in two settings:\n",
    "- **Extractive keywords**: use encoder-only models to interpret the document.\n",
    "- **Abstractive keywords**: use an encoder-decoder model (e.g. BART, T5) to generate keywords. \n",
    "All models are pretrained in English but we will evaluate on both English and French to see the impact of cross-lingual ability as well.\n",
    "\n",
    "**Reference**: \n",
    "- [bloomberg/KBIR](https://huggingface.co/bloomberg/KBIR) from [Learning Rich Representations of Keyphrases from Text](https://aclanthology.org/2022.findings-naacl.67.pdf).\n",
    "- [distilbert-base-uncased](https://huggingface.co/distilbert-base-uncased?text=The+goal+of+life+is+%5BMASK%5D.) from [DistilBERT, a distilled version of BERT: smaller, faster, cheaper and lighter](https://arxiv.org/pdf/1910.01108.pdf).\n",
    "- [bloomberg/KeyBART](https://huggingface.co/bloomberg/KeyBART) from [Learning Rich Representations of Keyphrases from Text](https://aclanthology.org/2022.findings-naacl.67.pdf) .\n",
    "- [t5-small](https://huggingface.co/t5-small?text=My+name+is+Sarah+and+I+live+in+London) from [Exploring Transfer Learning with T5: the Text-To-Text Transfer Transformer](https://ai.googleblog.com/2020/02/exploring-transfer-learning-with-t5.html)."
   ]
  },
  {
   "cell_type": "markdown",
   "id": "1bb16dd9-09fc-489c-aab5-dd2c216b7da8",
   "metadata": {
    "tags": []
   },
   "source": [
    "The summary of results demonstrates in the following table with the model name follows the syntax `type_model_dataset`.\n",
    "\n",
    "### English version\n",
    "\n",
    "|Types|Model|EAT Precision|EAT Recall|EAT F1-score|SET Precision|SET Recall|SET F1-score|\n",
    "|---|---|---|---|---|---|---|---|\n",
    "|**Extraction**|[TNT-KID KP20k](https://github.com/EMBEDDIA/tnt_kid)| 12.39| **47.39**| **19.64**|11.52 | **39.49** | **17.84**|\n",
    "||[keyphrase-extraction-kbir-inspec](https://huggingface.co/ml6team/keyphrase-extraction-kbir-inspec)| 8.07 | 7.97 | 12.53|7.30 | 23.38 | 11.13|\n",
    "||[keyphrase-extraction-distilbert-kptimes](https://huggingface.co/ml6team/keyphrase-extraction-distilbert-kptimes)|  17.6 | 3.01 | 5.14|9.83 | 2.62 | 4.14|\n",
    "||[keyphrase-extraction-kbir-kpcrowd](https://huggingface.co/ml6team/keyphrase-extraction-kbir-kpcrowd)| 5.44 | 36.05 | 9.45|4.30 | 32.46 | 7.59|\n",
    "|**Generation**|[keyphrase-generation-keybart-inspec](https://huggingface.co/ml6team/keyphrase-generation-keybart-inspec)|10.71 | 20.7 | 14.12|-|-|-|\n",
    "||[keyphrase-generation-t5-small-inspec](https://huggingface.co/ml6team/keyphrase-generation-t5-small-inspec)|8.42 | 9.25 | 8.82| 8.99 | 12.0 | 10.28|\n",
    "||[keyphrase-generation-t5-small-openkp](https://huggingface.co/ml6team/keyphrase-generation-t5-small-openkp)|**14.61** | 13.88 | **14.24**|**12.82** | 11.54 | **12.15**|\n",
    "|---|---|---|---|---|---|---|---|\n",
    "\n",
    "### French version\n",
    "\n",
    "|Types|Model|EAT Precision|EAT Recall|EAT F1-score|SET Precision|SET Recall|SET F1-score|\n",
    "|---|---|---|---|---|---|---|---|\n",
    "|**Extraction**|[CamemBERT]()|7.24 |**35.75**| **12.04**|6.88| **38.27**| **11.66**| \n",
    "||[keyphrase-extraction-kbir-inspec](https://huggingface.co/ml6team/keyphrase-extraction-kbir-inspec) |8.02 | 13.06 | 9.94|4.82 | 9.56 | 6.41|\n",
    "||[keyphrase-extraction-distilbert-kptimes](https://huggingface.co/ml6team/keyphrase-extraction-distilbert-kptimes)| 9.68 | 0.22 | 0.43|6.67 | 0.16 | 0.31|\n",
    "||[keyphrase-extraction-kbir-kpcrowd](https://huggingface.co/ml6team/keyphrase-extraction-kbir-kpcrowd)|4.26 | 26.42 | 7.34|2.84 | 21.63 | 5.02|\n",
    "|**Generation**|[keyphrase-generation-t5-small-inspec](https://huggingface.co/ml6team/keyphrase-generation-t5-small-inspec)|8.42| 9.25 | 8.82|7.14 | 7.52 | 7.33|\n",
    "||[keyphrase-generation-t5-small-openkp](https://huggingface.co/ml6team/keyphrase-generation-t5-small-openkp)|12.29 | 9.33 | **10.61**| 8.78 | 6.43 | **7.42**|\n",
    "|---|---|---|---|---|---|---|---|\n",
    "\n",
    "\n",
    "**OpenKeyPhrase(OpenKP)**: The dataset features 148,124 real world web documents along with a human annotation indicating the 1-3 most relevant keyphrases (https://github.com/microsoft/OpenKP)."
   ]
  },
  {
   "cell_type": "markdown",
   "id": "a34a8ee5-2021-410b-ba0a-8c3ebe675666",
   "metadata": {},
   "source": [
    "### 1. Extract and generate the keywords"
   ]
  },
  {
   "cell_type": "code",
   "execution_count": 22,
   "id": "28503295-110d-42be-b9d0-9a1f600ace9d",
   "metadata": {},
   "outputs": [],
   "source": [
    "# Define keyword extraction pipeline\n",
    "class KeywordExtractionPipeline(TokenClassificationPipeline):\n",
    "    def __init__(self, model, *args, **kwargs):\n",
    "        super().__init__(\n",
    "            model=AutoModelForTokenClassification.from_pretrained(model),\n",
    "            tokenizer=AutoTokenizer.from_pretrained(model),\n",
    "            *args,\n",
    "            **kwargs\n",
    "        )\n",
    "\n",
    "    def postprocess(self, model_outputs):\n",
    "        results = super().postprocess(\n",
    "            model_outputs=model_outputs,\n",
    "            aggregation_strategy=AggregationStrategy.SIMPLE,\n",
    "        )\n",
    "        return np.unique([result.get(\"word\").strip() for result in results])\n",
    "    \n",
    "class KeywordGenerationPipeline(Text2TextGenerationPipeline):\n",
    "    def __init__(self, model, keyword_sep_token=\";\", *args, **kwargs):\n",
    "        super().__init__(\n",
    "            model=AutoModelForSeq2SeqLM.from_pretrained(model),\n",
    "            tokenizer=AutoTokenizer.from_pretrained(model,\n",
    "                                                    model_max_length=1024, \n",
    "                                                    padding='max_length', \n",
    "                                                    truncation=True),\n",
    "            *args,\n",
    "            **kwargs\n",
    "        )\n",
    "        self.keyword_sep_token = keyword_sep_token\n",
    "\n",
    "    def postprocess(self, model_outputs):\n",
    "        results = super().postprocess(\n",
    "            model_outputs=model_outputs\n",
    "        )\n",
    "        return [[keyword.strip() for keyword in result.get(\"generated_text\").split(self.keyword_sep_token) if keyword != \"\"] for result in results]\n"
   ]
  },
  {
   "cell_type": "code",
   "execution_count": 6,
   "id": "03cbead9-4f02-4a62-ae8a-cf6ba31b1f26",
   "metadata": {},
   "outputs": [],
   "source": [
    "extractive_model_list = ['keyphrase-extraction-kbir-inspec',\n",
    "                        # 'keyphrase-extraction-distilbert-inspec',\n",
    "                        # 'keyphrase-extraction-kbir-kptimes',\n",
    "                        'keyphrase-extraction-distilbert-kptimes',\n",
    "                        # 'keyphrase-extraction-kbir-semeval2017',\n",
    "                        'keyphrase-extraction-kbir-kpcrowd'\n",
    "                        ]\n",
    "abstractive_model_list = ['keyphrase-generation-keybart-inspec',\n",
    "                        'keyphrase-generation-t5-small-inspec',\n",
    "                        'keyphrase-generation-t5-small-openkp'\n",
    "                        ]"
   ]
  },
  {
   "cell_type": "code",
   "execution_count": 28,
   "id": "031f611e-4062-49e5-8212-0e5a38a26e24",
   "metadata": {},
   "outputs": [],
   "source": [
    "def extract_prediction(df, model_name):\n",
    "    print(model_name)\n",
    "    start = timeit.default_timer()\n",
    "    extractor = KeywordExtractionPipeline(model=\"ml6team/\" + model_name)\n",
    "    df['en_' + model_name[10:]] = [extractor(x) for x in df['en_texts']]\n",
    "    df['fr_' + model_name[10:]] = [extractor(x) for x in df['fr_texts']]\n",
    "    stop = timeit.default_timer()\n",
    "    print('Done Time: ', stop - start)\n",
    "    return df\n",
    "\n",
    "def generate_prediction(df, model_name):\n",
    "    print(model_name)\n",
    "    start = timeit.default_timer()\n",
    "    extractor = KeywordGenerationPipeline(model=\"ml6team/\" + model_name)\n",
    "    df['en_' + model_name[10:]] = [extractor(x) for x in df['en_texts']]\n",
    "    df['fr_' + model_name[10:]] = [extractor(x) for x in df['fr_texts']]\n",
    "    \n",
    "    stop = timeit.default_timer()\n",
    "    print('Done Time: ', stop - start)\n",
    "    return df"
   ]
  },
  {
   "cell_type": "code",
   "execution_count": 8,
   "id": "77a8220a-2706-4113-b50e-356fcb161001",
   "metadata": {},
   "outputs": [
    {
     "name": "stdout",
     "output_type": "stream",
     "text": [
      "keyphrase-extraction-kbir-inspec\n",
      "Done Time:  1991.3434752998874\n",
      "keyphrase-extraction-distilbert-kptimes\n",
      "Done Time:  286.52993946615607\n",
      "keyphrase-extraction-kbir-kpcrowd\n",
      "Done Time:  1026.1492735492066\n"
     ]
    }
   ],
   "source": [
    "eat_results = extract_prediction(eat_data, 'keyphrase-extraction-kbir-inspec')\n",
    "eat_results.to_csv('./results/eat_kw_prediction1.csv', index=False)\n",
    "eat_results1 = extract_prediction(eat_results, 'keyphrase-extraction-distilbert-kptimes')\n",
    "eat_results1.to_csv('./results/eat_kw_prediction2.csv', index=False)\n",
    "eat_results2 = extract_prediction(eat_results1, 'keyphrase-extraction-kbir-kpcrowd')\n",
    "eat_results2.to_csv('./results/eat_kw_prediction3.csv', index=False)"
   ]
  },
  {
   "cell_type": "code",
   "execution_count": 9,
   "id": "ee5b50b5-6878-47a3-a669-c6e7675b9a27",
   "metadata": {},
   "outputs": [
    {
     "name": "stdout",
     "output_type": "stream",
     "text": [
      "keyphrase-extraction-kbir-inspec\n",
      "Done Time:  320.7594917360693\n",
      "keyphrase-extraction-distilbert-kptimes\n",
      "Done Time:  91.66723519796506\n",
      "keyphrase-extraction-kbir-kpcrowd\n",
      "Done Time:  345.52236298425123\n"
     ]
    }
   ],
   "source": [
    "set_results = extract_prediction(set_data, 'keyphrase-extraction-kbir-inspec')\n",
    "set_results.to_csv('./results/set_kw_prediction1.csv', index=False)\n",
    "set_results1 = extract_prediction(set_results, 'keyphrase-extraction-distilbert-kptimes')\n",
    "set_results1.to_csv('./results/set_kw_prediction2.csv', index=False)\n",
    "set_results2 = extract_prediction(set_results1, 'keyphrase-extraction-kbir-kpcrowd')\n",
    "set_results2.to_csv('./results/set_kw_prediction3.csv', index=False)"
   ]
  },
  {
   "cell_type": "code",
   "execution_count": null,
   "id": "8c952a80-483e-47e8-b069-78488e54fd86",
   "metadata": {},
   "outputs": [
    {
     "name": "stdout",
     "output_type": "stream",
     "text": [
      "keyphrase-generation-t5-small-inspec\n"
     ]
    }
   ],
   "source": [
    "eat_results3 = generate_prediction(eat_results2, 'keyphrase-generation-t5-small-inspec')\n",
    "eat_results3.to_csv('./results/eat_kw_prediction4.csv', index=False)\n",
    "eat_results4 = generate_prediction(eat_results3, 'keyphrase-generation-t5-small-openkp')\n",
    "eat_results4.to_csv('./results/eat_kw_prediction_final.csv', index=False)"
   ]
  },
  {
   "cell_type": "code",
   "execution_count": null,
   "id": "2dcab54d-049e-4d51-a5ad-0274671c4bad",
   "metadata": {},
   "outputs": [],
   "source": [
    "set_results3 = generate_prediction(set_results2, 'keyphrase-generation-t5-small-inspec')\n",
    "set_results3.to_csv('./results/set_kw_prediction4.csv', index=False)\n",
    "set_results4 = generate_prediction(set_results3, 'keyphrase-generation-t5-small-openkp')\n",
    "set_results4.to_csv('./results/set_kw_prediction_final.csv', index=False)"
   ]
  },
  {
   "cell_type": "markdown",
   "id": "2ed56b7f-a02b-4def-9ae7-c0c84cbc8d64",
   "metadata": {},
   "source": [
    "### 2. Evaluate the results"
   ]
  },
  {
   "cell_type": "code",
   "execution_count": 37,
   "id": "1ad0438e-892d-4bd1-961f-898037616008",
   "metadata": {},
   "outputs": [],
   "source": [
    "def compute_metrics(candidate_kw_col, true_kw_col):\n",
    "    candidate_kw_list = []\n",
    "    true_kw_list = []\n",
    "    for x in candidate_kw_col:\n",
    "        candidate_kw_list.extend(x)\n",
    "    for x in true_kw_col:\n",
    "        true_kw_list.extend(x.split(','))\n",
    "        \n",
    "    extracted_kw = set([item.strip().lower() for item in candidate_kw_list])\n",
    "    true_kw = set([item.strip().lower() for item in true_kw_list])\n",
    "    \n",
    "    # print(extracted_kw)\n",
    "    # print(true_kw)\n",
    "    \n",
    "    true_pos = extracted_kw.intersection(true_kw)\n",
    "    recall = round(len(true_pos)*100/len(true_kw),2) if true_kw != 0 else 0\n",
    "    precision = round(len(true_pos)*100/len(extracted_kw),2) if extracted_kw != 0 else 0\n",
    "    fscore = round(2*(precision*recall)/(precision+recall),2) if precision + recall != 0 else 0\n",
    "    print(str(len(extracted_kw))+ ' , ' + str(len(true_kw)) +' , ' + str(len(true_pos)) +' , ' + str(precision)+' , ' +  str(recall)+' , ' +  str(fscore))\n",
    "    return precision, recall, fscore"
   ]
  },
  {
   "cell_type": "code",
   "execution_count": 43,
   "id": "b2ec1811-4bf3-46cb-9f46-efe07e875c39",
   "metadata": {},
   "outputs": [
    {
     "name": "stdout",
     "output_type": "stream",
     "text": [
      "4724 , 1362 , 381 , 8.07 , 27.97 , 12.53\n",
      "2183 , 1340 , 175 , 8.02 , 13.06 , 9.94\n",
      "233 , 1362 , 41 , 17.6 , 3.01 , 5.14\n",
      "31 , 1340 , 3 , 9.68 , 0.22 , 0.43\n",
      "9032 , 1362 , 491 , 5.44 , 36.05 , 9.45\n",
      "8319 , 1340 , 354 , 4.26 , 26.42 , 7.34\n"
     ]
    },
    {
     "data": {
      "text/plain": [
       "(4.26, 26.42, 7.34)"
      ]
     },
     "execution_count": 43,
     "metadata": {},
     "output_type": "execute_result"
    }
   ],
   "source": [
    "compute_metrics(eat_results4['en_extraction-kbir-inspec'], eat_results4['en_keywords'])\n",
    "compute_metrics(eat_results4['fr_extraction-kbir-inspec'], eat_results4['fr_keywords'])\n",
    "compute_metrics(eat_results4['en_extraction-distilbert-kptimes'], eat_results4['en_keywords'])\n",
    "compute_metrics(eat_results4['fr_extraction-distilbert-kptimes'], eat_results4['fr_keywords'])\n",
    "compute_metrics(eat_results4['en_extraction-kbir-kpcrowd'], eat_results4['en_keywords'])\n",
    "compute_metrics(eat_results4['fr_extraction-kbir-kpcrowd'], eat_results4['fr_keywords'])"
   ]
  },
  {
   "cell_type": "code",
   "execution_count": 44,
   "id": "3d273db4-265d-4d16-972f-66bee78fd973",
   "metadata": {},
   "outputs": [
    {
     "name": "stdout",
     "output_type": "stream",
     "text": [
      "2081 , 650 , 152 , 7.3 , 23.38 , 11.13\n",
      "1266 , 638 , 61 , 4.82 , 9.56 , 6.41\n",
      "173 , 650 , 17 , 9.83 , 2.62 , 4.14\n",
      "15 , 638 , 1 , 6.67 , 0.16 , 0.31\n",
      "4904 , 650 , 211 , 4.3 , 32.46 , 7.59\n",
      "4855 , 638 , 138 , 2.84 , 21.63 , 5.02\n"
     ]
    },
    {
     "data": {
      "text/plain": [
       "(2.84, 21.63, 5.02)"
      ]
     },
     "execution_count": 44,
     "metadata": {},
     "output_type": "execute_result"
    }
   ],
   "source": [
    "compute_metrics(set_results4['en_extraction-kbir-inspec'], set_results4['en_keywords'])\n",
    "compute_metrics(set_results4['fr_extraction-kbir-inspec'], set_results4['fr_keywords'])\n",
    "compute_metrics(set_results4['en_extraction-distilbert-kptimes'], set_results4['en_keywords'])\n",
    "compute_metrics(set_results4['fr_extraction-distilbert-kptimes'], set_results4['fr_keywords'])\n",
    "compute_metrics(set_results4['en_extraction-kbir-kpcrowd'], set_results4['en_keywords'])\n",
    "compute_metrics(set_results4['fr_extraction-kbir-kpcrowd'], set_results4['fr_keywords'])"
   ]
  },
  {
   "cell_type": "code",
   "execution_count": 53,
   "id": "d79b279f-0cb7-4b9c-a954-d4a582052d6d",
   "metadata": {},
   "outputs": [],
   "source": [
    "def compute_abstractive_metrics(candidate_kw_col, true_kw_col):\n",
    "    candidate_kw_list = []\n",
    "    true_kw_list = []\n",
    "    for x in candidate_kw_col:\n",
    "        candidate_kw_list.extend(x[0])\n",
    "    for x in true_kw_col:\n",
    "        true_kw_list.extend(x.split(','))\n",
    "        \n",
    "    extracted_kw = set([item.strip().lower() for item in candidate_kw_list])\n",
    "    true_kw = set([item.strip().lower() for item in true_kw_list])\n",
    "    \n",
    "    # print(extracted_kw)\n",
    "    # print(true_kw)\n",
    "    \n",
    "    true_pos = extracted_kw.intersection(true_kw)\n",
    "    recall = round(len(true_pos)*100/len(true_kw),2) if true_kw != 0 else 0\n",
    "    precision = round(len(true_pos)*100/len(extracted_kw),2) if extracted_kw != 0 else 0\n",
    "    fscore = round(2*(precision*recall)/(precision+recall),2) if precision + recall != 0 else 0\n",
    "    print(str(len(extracted_kw))+ ' , ' + str(len(true_kw)) +' , ' + str(len(true_pos)) +' , ' + str(precision)+' , ' +  str(recall)+' , ' +  str(fscore))\n",
    "    return precision, recall, fscore"
   ]
  },
  {
   "cell_type": "code",
   "execution_count": null,
   "id": "a7e717df-53a6-412c-b389-73d146e40f7d",
   "metadata": {},
   "outputs": [],
   "source": [
    "compute_abstractive_metrics(eat_results4['fr_generation-t5-small-inspec'], eat_results4['fr_keywords'])\n",
    "compute_abstractive_metrics(set_results4['fr_generation-t5-small-inspec'], set_results4['fr_keywords'])\n",
    "compute_abstractive_metrics(eat_results4['fr_generation-t5-small-openkp'], eat_results4['fr_keywords'])\n",
    "compute_abstractive_metrics(set_results4['fr_generation-t5-small-openkp'], set_results4['fr_keywords'])"
   ]
  },
  {
   "cell_type": "code",
   "execution_count": null,
   "id": "d7caf6aa-2575-4ba7-ab16-7598b0c7eeff",
   "metadata": {},
   "outputs": [],
   "source": []
  }
 ],
 "metadata": {
  "kernelspec": {
   "display_name": "Python 3 (ipykernel)",
   "language": "python",
   "name": "python3"
  },
  "language_info": {
   "codemirror_mode": {
    "name": "ipython",
    "version": 3
   },
   "file_extension": ".py",
   "mimetype": "text/x-python",
   "name": "python",
   "nbconvert_exporter": "python",
   "pygments_lexer": "ipython3",
   "version": "3.7.13"
  }
 },
 "nbformat": 4,
 "nbformat_minor": 5
}
